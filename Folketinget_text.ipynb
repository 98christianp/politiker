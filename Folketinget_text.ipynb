{
 "cells": [
  {
   "cell_type": "markdown",
   "metadata": {},
   "source": [
    "OData API"
   ]
  },
  {
   "cell_type": "markdown",
   "metadata": {},
   "source": [
    "https://oda.ft.dk/Home/OdataQuery\n",
    "https://www.odata.org/\n",
    "https://www.ft.dk/-/media/sites/ft/pdf/dokumenter/aabne-data/oda-browser_brugervejledning.ashx\n",
    "https://www.odata.org/documentation/odata-version-3-0/url-conventions/\n",
    "https://www.odata.org/documentation/odata-version-3-0/odata-version-3-0-core-protocol/\n",
    "Source root Link: \"https://oda.ft.dk/api/\"\n",
    "\n",
    "ftp://oda.ft.dk/ODAXML/Referat/samling/\n"
   ]
  },
  {
   "cell_type": "code",
   "execution_count": 4,
   "metadata": {},
   "outputs": [],
   "source": [
    "import requests\n",
    "import urllib.request\n",
    "import os\n",
    "import io\n",
    "import json"
   ]
  },
  {
   "cell_type": "code",
   "execution_count": 102,
   "metadata": {},
   "outputs": [],
   "source": [
    "root = \"https://oda.ft.dk/api/\"\n",
    "ressource = \"M%C3%B8de?\"\n",
    "query = \"$top=1&$expand=Dagsordenspunkt\""
   ]
  },
  {
   "cell_type": "code",
   "execution_count": 103,
   "metadata": {},
   "outputs": [],
   "source": [
    "response = urllib.request.urlopen(root+ressource+query)"
   ]
  },
  {
   "cell_type": "code",
   "execution_count": 104,
   "metadata": {},
   "outputs": [],
   "source": [
    "data = response.read()"
   ]
  },
  {
   "cell_type": "code",
   "execution_count": 105,
   "metadata": {},
   "outputs": [],
   "source": [
    "from bs4 import BeautifulSoup\n",
    "soup = BeautifulSoup(data, 'html.parser')"
   ]
  },
  {
   "cell_type": "code",
   "execution_count": 106,
   "metadata": {},
   "outputs": [
    {
     "name": "stdout",
     "output_type": "stream",
     "text": [
      "{\r\n",
      "  \"odata.metadata\":\"https://oda.ft.dk/api/%24metadata#M%C3%B8de\",\"value\":[\r\n",
      "    {\r\n",
      "      \"Dagsordenspunkt\":[\r\n",
      "        {\r\n",
      "          \"id\":7016,\"k\\u00f8rebem\\u00e6rkning\":null,\"titel\":\"Teknisk gennemgang af forslag til finanslov for 2015 for s\\u00e5 vidt ang\\u00e5r Justitsministeriets omr\\u00e5de, v/ justitsministeren og embedsm\\u00e6nd fra Justitsministeriet, jf. REU alm. del \\u2013 bilag 354.\",\"kommentar\":\"\",\"nummer\":\"1\",\"forhandlingskode\":\"\",\"forhandling\":null,\"superid\":null,\"sagstrinid\":null,\"m\\u00f8deid\":1,\"offentlighedskode\":\"O\",\"opdateringsdato\":\"2014-09-19T14:46:18.07\"\r\n",
      "        }\r\n",
      "      ],\"id\":1,\"titel\":\"M\\u00f8de i REU den 8/9-14\",\"lokale\":\"2-080\",\"nummer\":null,\"dagsordenurl\":\"\",\"starttidsbem\\u00e6rkning\":\"11.00\",\"offentlighedskode\":\"O\",\"dato\":\"2014-09-08T11:00:00\",\"statusid\":2,\"typeid\":2,\"periodeid\":32,\"opdateringsdato\":\"2014-11-12T09:14:16.883\"\r\n",
      "    }\r\n",
      "  ]\r\n",
      "}\n"
     ]
    }
   ],
   "source": [
    "print(soup.decode())"
   ]
  },
  {
   "cell_type": "code",
   "execution_count": 27,
   "metadata": {},
   "outputs": [
    {
     "data": {
      "text/plain": [
       "'https://oda.ft.dk/Home/WebApi/M%C3%B8de?$top=2&$orderby=name'"
      ]
     },
     "execution_count": 27,
     "metadata": {},
     "output_type": "execute_result"
    }
   ],
   "source": [
    "root+ressource+query"
   ]
  },
  {
   "cell_type": "code",
   "execution_count": 46,
   "metadata": {},
   "outputs": [
    {
     "data": {
      "text/plain": [
       "b'{\\r\\n  \"odata.metadata\":\"https://oda.ft.dk/api/%24metadata#M%C3%B8de\",\"value\":[\\r\\n    {\\r\\n      \"id\":1,\"titel\":\"M\\\\u00f8de i REU den 8/9-14\",\"lokale\":\"2-080\",\"nummer\":null,\"dagsordenurl\":\"\",\"starttidsbem\\\\u00e6rkning\":\"11.00\",\"offentlighedskode\":\"O\",\"dato\":\"2014-09-08T11:00:00\",\"statusid\":2,\"typeid\":2,\"periodeid\":32,\"opdateringsdato\":\"2014-11-12T09:14:16.883\"\\r\\n    },{\\r\\n      \"id\":2,\"titel\":\"MIU - Ekspertm\\\\u00f8de om EU\\\\u00b4s affaldsdirektiv\",\"lokale\":\"1-133\",\"nummer\":null,\"dagsordenurl\":\"\",\"starttidsbem\\\\u00e6rkning\":\"Kl. 10.30\",\"offentlighedskode\":\"O\",\"dato\":\"2014-09-25T10:30:00\",\"statusid\":2,\"typeid\":2,\"periodeid\":32,\"opdateringsdato\":\"2014-09-30T13:02:16.317\"\\r\\n    },{\\r\\n      \"id\":3,\"titel\":\"MIU - Dep. - \\\\u00c5bent samr\\\\u00e5d (AL)\",\"lokale\":\"2-080\",\"nummer\":null,\"dagsordenurl\":\"\",\"starttidsbem\\\\u00e6rkning\":\"Kl. 10.00\",\"offentlighedskode\":\"O\",\"dato\":\"2014-09-18T10:00:00\",\"statusid\":2,\"typeid\":2,\"periodeid\":32,\"opdateringsdato\":\"2014-11-12T09:14:58.773\"\\r\\n    },{\\r\\n      \"id\":4,\"titel\":\"M\\\\u00f8de den 9/9-14\",\"lokale\":\"1-008\",\"nummer\":null,\"dagsordenurl\":\"\",\"starttidsbem\\\\u00e6rkning\":\"13.15\",\"offentlighedskode\":\"O\",\"dato\":\"2014-09-09T13:15:00\",\"statusid\":2,\"typeid\":2,\"periodeid\":32,\"opdateringsdato\":\"2014-11-12T09:11:53.447\"\\r\\n    },{\\r\\n      \"id\":5,\"titel\":\"M\\\\u00f8de i REU den 9/9-14\",\"lokale\":\"S-092\",\"nummer\":null,\"dagsordenurl\":\"\",\"starttidsbem\\\\u00e6rkning\":\"15.00\",\"offentlighedskode\":\"O\",\"dato\":\"2014-09-09T15:00:00\",\"statusid\":2,\"typeid\":2,\"periodeid\":32,\"opdateringsdato\":\"2014-09-19T14:46:22.96\"\\r\\n    },{\\r\\n      \"id\":6,\"titel\":\"MIU - \\\\u00e5bent samr\\\\u00e5d\",\"lokale\":\"1-133\",\"nummer\":null,\"dagsordenurl\":\"\",\"starttidsbem\\\\u00e6rkning\":\"Kl. 10.00\",\"offentlighedskode\":\"O\",\"dato\":\"2014-08-28T10:00:00\",\"statusid\":2,\"typeid\":2,\"periodeid\":32,\"opdateringsdato\":\"2014-09-05T11:46:31.463\"\\r\\n    },{\\r\\n      \"id\":7,\"titel\":\"MIU - \\\\u00c5bent samr\\\\u00e5d (AC + AD)\",\"lokale\":\"1-133\",\"nummer\":null,\"dagsordenurl\":\"\",\"starttidsbem\\\\u00e6rkning\":\"kl. 13.00\",\"offentlighedskode\":\"O\",\"dato\":\"2014-09-02T13:00:00\",\"statusid\":2,\"typeid\":2,\"periodeid\":32,\"opdateringsdato\":\"2014-09-05T11:49:21.07\"\\r\\n    },{\\r\\n      \"id\":8,\"titel\":\"MIU - FFL 2015\",\"lokale\":\"2-078\",\"nummer\":null,\"dagsordenurl\":\"\",\"starttidsbem\\\\u00e6rkning\":\"Kl. 9.00\",\"offentlighedskode\":\"O\",\"dato\":\"2014-09-03T09:00:00\",\"statusid\":2,\"typeid\":2,\"periodeid\":32,\"opdateringsdato\":\"2014-09-05T11:58:12.54\"\\r\\n    },{\\r\\n      \"id\":9,\"titel\":\"Skatteudvalget\",\"lokale\":\"1-133\",\"nummer\":null,\"dagsordenurl\":\"\",\"starttidsbem\\\\u00e6rkning\":\"Kl. 11.00\",\"offentlighedskode\":\"O\",\"dato\":\"2014-09-08T11:00:00\",\"statusid\":2,\"typeid\":2,\"periodeid\":32,\"opdateringsdato\":\"2014-11-12T09:15:48.947\"\\r\\n    },{\\r\\n      \"id\":10,\"titel\":\"Erhvervs-, V\\\\u00e6kst- og Eksportudvalget - \\\\u00e5bent samr\\\\u00e5d\",\"lokale\":\"2-080\",\"nummer\":null,\"dagsordenurl\":\"\",\"starttidsbem\\\\u00e6rkning\":\"kl. 14.00\",\"offentlighedskode\":\"O\",\"dato\":\"2014-09-14T14:00:00\",\"statusid\":3,\"typeid\":2,\"periodeid\":32,\"opdateringsdato\":\"2014-09-19T14:46:29.883\"\\r\\n    },{\\r\\n      \"id\":11,\"titel\":\"Klima-, Energi- og Bygningsudvalget\",\"lokale\":\"2-080\",\"nummer\":null,\"dagsordenurl\":\"\",\"starttidsbem\\\\u00e6rkning\":\"kl. 10.00\",\"offentlighedskode\":\"O\",\"dato\":\"2014-09-30T10:00:00\",\"statusid\":3,\"typeid\":2,\"periodeid\":32,\"opdateringsdato\":\"2014-09-25T15:42:22.437\"\\r\\n    },{\\r\\n      \"id\":12,\"titel\":\"Klima-, Energi- og Bygningsudvalget - dep.\",\"lokale\":\"2-141\",\"nummer\":null,\"dagsordenurl\":\"\",\"starttidsbem\\\\u00e6rkning\":\"kl. 10.30\",\"offentlighedskode\":\"O\",\"dato\":\"2014-09-04T10:30:00\",\"statusid\":2,\"typeid\":2,\"periodeid\":32,\"opdateringsdato\":\"2014-09-05T13:44:19.617\"\\r\\n    },{\\r\\n      \"id\":13,\"titel\":\"UVP-m\\\\u00f8de\",\"lokale\":\"1-009\",\"nummer\":null,\"dagsordenurl\":\"\",\"starttidsbem\\\\u00e6rkning\":\"Kl. 7.50\",\"offentlighedskode\":\"O\",\"dato\":\"2014-09-09T07:50:00\",\"statusid\":1,\"typeid\":2,\"periodeid\":32,\"opdateringsdato\":\"2014-09-19T14:46:32.177\"\\r\\n    },{\\r\\n      \"id\":14,\"titel\":\"By- og Boligudvalget\",\"lokale\":\"1-133\",\"nummer\":null,\"dagsordenurl\":\"\",\"starttidsbem\\\\u00e6rkning\":\"8.30\",\"offentlighedskode\":\"O\",\"dato\":\"2014-09-18T08:30:00\",\"statusid\":2,\"typeid\":2,\"periodeid\":32,\"opdateringsdato\":\"2014-11-12T09:15:32.743\"\\r\\n    },{\\r\\n      \"id\":15,\"titel\":\"M\\\\u00f8de i salen\",\"lokale\":\"\",\"nummer\":\"103\",\"dagsordenurl\":\"\",\"starttidsbem\\\\u00e6rkning\":\"\",\"offentlighedskode\":\"O\",\"dato\":\"2014-08-27T17:00:00\",\"statusid\":2,\"typeid\":1,\"periodeid\":32,\"opdateringsdato\":\"2014-09-19T14:46:10.82\"\\r\\n    },{\\r\\n      \"id\":16,\"titel\":\"M\\\\u00f8de i Udenrigsudvalget\",\"lokale\":\"V\\\\u00e6r. 2-080\",\"nummer\":null,\"dagsordenurl\":\"\",\"starttidsbem\\\\u00e6rkning\":\"Kl. 13.00\",\"offentlighedskode\":\"O\",\"dato\":\"2014-09-02T13:00:00\",\"statusid\":2,\"typeid\":2,\"periodeid\":32,\"opdateringsdato\":\"2014-09-19T14:45:54.553\"\\r\\n    },{\\r\\n      \"id\":17,\"titel\":\"M\\\\u00f8de i salen\",\"lokale\":\"\",\"nummer\":\"104\",\"dagsordenurl\":\"\",\"starttidsbem\\\\u00e6rkning\":\"\",\"offentlighedskode\":\"O\",\"dato\":\"2014-09-09T09:00:00\",\"statusid\":2,\"typeid\":1,\"periodeid\":32,\"opdateringsdato\":\"2014-11-12T09:08:46.54\"\\r\\n    },{\\r\\n      \"id\":18,\"titel\":\"M\\\\u00f8de i salen\",\"lokale\":\"\",\"nummer\":\"105\",\"dagsordenurl\":\"\",\"starttidsbem\\\\u00e6rkning\":\"5 min. efter afslutningen af m\\\\u00f8de nr. 104\",\"offentlighedskode\":\"O\",\"dato\":\"2014-09-09T09:15:00\",\"statusid\":2,\"typeid\":1,\"periodeid\":32,\"opdateringsdato\":\"2014-11-12T09:11:13.353\"\\r\\n    },{\\r\\n      \"id\":19,\"titel\":\"BEU | \\\\u00c5bent samr\\\\u00e5d\",\"lokale\":\"2-080\",\"nummer\":\"34\",\"dagsordenurl\":\"\",\"starttidsbem\\\\u00e6rkning\":\"kl. 14.00\",\"offentlighedskode\":\"O\",\"dato\":\"2014-10-02T14:00:00\",\"statusid\":2,\"typeid\":2,\"periodeid\":32,\"opdateringsdato\":\"2014-10-03T08:30:48.837\"\\r\\n    },{\\r\\n      \"id\":20,\"titel\":\"M\\\\u00f8de i FIU (52)\",\"lokale\":\"Landstingssalen\",\"nummer\":\"52\",\"dagsordenurl\":\"\",\"starttidsbem\\\\u00e6rkning\":\"Kl. 14.00\",\"offentlighedskode\":\"O\",\"dato\":\"2014-09-18T14:00:00\",\"statusid\":2,\"typeid\":2,\"periodeid\":32,\"opdateringsdato\":\"2014-11-12T09:15:44.197\"\\r\\n    },{\\r\\n      \"id\":21,\"titel\":\"M\\\\u00f8de i FIU (51)\",\"lokale\":\"Landstingssalen\",\"nummer\":\"51\",\"dagsordenurl\":\"\",\"starttidsbem\\\\u00e6rkning\":\"Kl. 10.30\",\"offentlighedskode\":\"O\",\"dato\":\"2014-09-18T10:30:00\",\"statusid\":2,\"typeid\":2,\"periodeid\":32,\"opdateringsdato\":\"2014-09-19T14:46:39.587\"\\r\\n    },{\\r\\n      \"id\":22,\"titel\":\"M\\\\u00f8de i FIU (53)\",\"lokale\":\"2-011\",\"nummer\":\"53\",\"dagsordenurl\":\"\",\"starttidsbem\\\\u00e6rkning\":\"Kl. 13.00\",\"offentlighedskode\":\"O\",\"dato\":\"2014-10-02T13:00:00\",\"statusid\":2,\"typeid\":2,\"periodeid\":32,\"opdateringsdato\":\"2014-10-06T11:58:44.69\"\\r\\n    },{\\r\\n      \"id\":23,\"titel\":\"Transportudvalget\",\"lokale\":\"1-133\",\"nummer\":null,\"dagsordenurl\":\"\",\"starttidsbem\\\\u00e6rkning\":\"kl. 11.00\",\"offentlighedskode\":\"O\",\"dato\":\"2014-09-10T11:00:00\",\"statusid\":2,\"typeid\":2,\"periodeid\":32,\"opdateringsdato\":\"2014-11-12T09:12:14.51\"\\r\\n    },{\\r\\n      \"id\":24,\"titel\":\"FOU 18-9-14 (\\\\u00e5bent samr\\\\u00e5d)\",\"lokale\":\"2-133\",\"nummer\":null,\"dagsordenurl\":\"\",\"starttidsbem\\\\u00e6rkning\":\"kl. 14.00\",\"offentlighedskode\":\"O\",\"dato\":\"2014-09-18T14:00:00\",\"statusid\":2,\"typeid\":2,\"periodeid\":32,\"opdateringsdato\":\"2014-11-12T09:16:55.807\"\\r\\n    },{\\r\\n      \"id\":25,\"titel\":\"FLF - 10-9-14 - (\\\\u00e5bent samr\\\\u00e5d)\",\"lokale\":\"1-133\",\"nummer\":null,\"dagsordenurl\":\"\",\"starttidsbem\\\\u00e6rkning\":\"kl. 14.00\",\"offentlighedskode\":\"O\",\"dato\":\"2014-09-10T14:00:00\",\"statusid\":2,\"typeid\":2,\"periodeid\":32,\"opdateringsdato\":\"2014-11-12T09:13:53.15\"\\r\\n    },{\\r\\n      \"id\":26,\"titel\":\"Kommunaludvalget\",\"lokale\":\"1-133\",\"nummer\":null,\"dagsordenurl\":\"\",\"starttidsbem\\\\u00e6rkning\":\"kl. 11.00\",\"offentlighedskode\":\"O\",\"dato\":\"2014-10-03T11:00:00\",\"statusid\":2,\"typeid\":2,\"periodeid\":32,\"opdateringsdato\":\"2014-11-12T09:17:00.523\"\\r\\n    },{\\r\\n      \"id\":27,\"titel\":\"M\\\\u00f8de i FIU (50)\",\"lokale\":\"2-011\",\"nummer\":\"50\",\"dagsordenurl\":\"\",\"starttidsbem\\\\u00e6rkning\":\"Kl. 13.30\",\"offentlighedskode\":\"O\",\"dato\":\"2014-09-11T13:30:00\",\"statusid\":2,\"typeid\":2,\"periodeid\":32,\"opdateringsdato\":\"2014-11-12T09:15:39.507\"\\r\\n    },{\\r\\n      \"id\":28,\"titel\":\"FLF - 1-10-14 (dep. + \\\\u00e5bent samr\\\\u00e5d)\",\"lokale\":\"2-080\",\"nummer\":null,\"dagsordenurl\":\"\",\"starttidsbem\\\\u00e6rkning\":\"kl. 14.00\",\"offentlighedskode\":\"O\",\"dato\":\"2014-10-01T14:00:00\",\"statusid\":2,\"typeid\":2,\"periodeid\":32,\"opdateringsdato\":\"2014-11-12T09:17:16.367\"\\r\\n    },{\\r\\n      \"id\":29,\"titel\":\"M\\\\u00f8de i UUI\",\"lokale\":\"2-080\",\"nummer\":null,\"dagsordenurl\":\"\",\"starttidsbem\\\\u00e6rkning\":\"kl. 11.30\",\"offentlighedskode\":\"O\",\"dato\":\"2014-10-01T11:30:00\",\"statusid\":2,\"typeid\":2,\"periodeid\":32,\"opdateringsdato\":\"2014-11-12T09:17:22.867\"\\r\\n    },{\\r\\n      \"id\":30,\"titel\":\"M\\\\u00f8de i UUI\",\"lokale\":\"1-133\",\"nummer\":null,\"dagsordenurl\":\"\",\"starttidsbem\\\\u00e6rkning\":\"kl. 15.00\",\"offentlighedskode\":\"O\",\"dato\":\"2014-10-02T15:00:00\",\"statusid\":2,\"typeid\":2,\"periodeid\":32,\"opdateringsdato\":\"2014-11-12T09:17:27.587\"\\r\\n    },{\\r\\n      \"id\":31,\"titel\":\"M\\\\u00f8de i EUU \",\"lokale\":\"2-133\",\"nummer\":\"38\",\"dagsordenurl\":\"\",\"starttidsbem\\\\u00e6rkning\":\"Kl. 10.00\",\"offentlighedskode\":\"O\",\"dato\":\"2014-09-19T10:00:00\",\"statusid\":2,\"typeid\":2,\"periodeid\":32,\"opdateringsdato\":\"2014-11-12T09:17:51.587\"\\r\\n    },{\\r\\n      \"id\":32,\"titel\":\"FIV 18/9-14 (samr\\\\u00e5d - \\\\u00e5bent samr\\\\u00e5d)\",\"lokale\":\"S-092 (af hensyn til lydoptagelse af det \\\\u00e5bne samr\\\\u00e5d)\",\"nummer\":null,\"dagsordenurl\":\"\",\"starttidsbem\\\\u00e6rkning\":\"Kl. 14.00\",\"offentlighedskode\":\"O\",\"dato\":\"2014-09-18T14:00:00\",\"statusid\":1,\"typeid\":2,\"periodeid\":32,\"opdateringsdato\":\"2014-09-12T14:55:32.52\"\\r\\n    },{\\r\\n      \"id\":33,\"titel\":\"Klima-, Energi- og Bygningsudvalget - \\\\u00e5bent samr\\\\u00e5d\",\"lokale\":\"2-080\",\"nummer\":null,\"dagsordenurl\":\"\",\"starttidsbem\\\\u00e6rkning\":\"kl. 8.00\",\"offentlighedskode\":\"O\",\"dato\":\"2014-09-17T08:00:00\",\"statusid\":2,\"typeid\":2,\"periodeid\":32,\"opdateringsdato\":\"2014-11-12T09:18:00.397\"\\r\\n    },{\\r\\n      \"id\":34,\"titel\":\"M\\\\u00f8de i REU d. 16/9-14\",\"lokale\":\"1-133\",\"nummer\":null,\"dagsordenurl\":\"\",\"starttidsbem\\\\u00e6rkning\":\"15.00\",\"offentlighedskode\":\"O\",\"dato\":\"2014-09-16T15:00:00\",\"statusid\":2,\"typeid\":2,\"periodeid\":32,\"opdateringsdato\":\"2014-11-12T09:12:02.18\"\\r\\n    },{\\r\\n      \"id\":35,\"titel\":\"UL\\\\u00d8 - 16-9-14 (dep.)\",\"lokale\":\"1-133\",\"nummer\":null,\"dagsordenurl\":\"\",\"starttidsbem\\\\u00e6rkning\":\"kl. 10.00\",\"offentlighedskode\":\"O\",\"dato\":\"2014-09-16T10:00:00\",\"statusid\":2,\"typeid\":2,\"periodeid\":32,\"opdateringsdato\":\"2014-11-12T09:14:33.477\"\\r\\n    },{\\r\\n      \"id\":36,\"titel\":\"Socialudvalget\",\"lokale\":\"2-141\",\"nummer\":null,\"dagsordenurl\":\"\",\"starttidsbem\\\\u00e6rkning\":\"Kl. 11.45\",\"offentlighedskode\":\"O\",\"dato\":\"2014-09-17T11:45:00\",\"statusid\":2,\"typeid\":2,\"periodeid\":32,\"opdateringsdato\":\"2014-11-12T09:18:11.147\"\\r\\n    },{\\r\\n      \"id\":37,\"titel\":\"M\\\\u00f8det er aflyst: Socialudvalget | \\\\u00e5bent samr\\\\u00e5d\",\"lokale\":\"2-080\",\"nummer\":null,\"dagsordenurl\":\"\",\"starttidsbem\\\\u00e6rkning\":\"kl. 15.45\",\"offentlighedskode\":\"O\",\"dato\":\"2014-10-02T15:45:00\",\"statusid\":3,\"typeid\":2,\"periodeid\":32,\"opdateringsdato\":\"2014-11-12T09:14:18.117\"\\r\\n    },{\\r\\n      \"id\":39,\"titel\":\"M\\\\u00f8de i salen\",\"lokale\":\"\",\"nummer\":\"1\",\"dagsordenurl\":\"\",\"starttidsbem\\\\u00e6rkning\":\"12.00\",\"offentlighedskode\":\"O\",\"dato\":\"2012-10-02T12:00:00\",\"statusid\":4,\"typeid\":1,\"periodeid\":31,\"opdateringsdato\":\"2016-01-06T16:22:46.18\"\\r\\n    },{\\r\\n      \"id\":40,\"titel\":\"M\\\\u00f8de i salen\",\"lokale\":\"\",\"nummer\":\"2\",\"dagsordenurl\":\"\",\"starttidsbem\\\\u00e6rkning\":\"13.00\",\"offentlighedskode\":\"O\",\"dato\":\"2012-10-03T13:00:00\",\"statusid\":4,\"typeid\":1,\"periodeid\":31,\"opdateringsdato\":\"2016-01-06T16:22:46.243\"\\r\\n    },{\\r\\n      \"id\":41,\"titel\":\"M\\\\u00f8de i salen\",\"lokale\":\"\",\"nummer\":\"3\",\"dagsordenurl\":\"\",\"starttidsbem\\\\u00e6rkning\":\"10.00\",\"offentlighedskode\":\"O\",\"dato\":\"2012-10-04T10:00:00\",\"statusid\":4,\"typeid\":1,\"periodeid\":31,\"opdateringsdato\":\"2016-01-06T16:22:46.273\"\\r\\n    },{\\r\\n      \"id\":42,\"titel\":\"M\\\\u00f8de i salen\",\"lokale\":\"\",\"nummer\":\"4\",\"dagsordenurl\":\"\",\"starttidsbem\\\\u00e6rkning\":\"13.00\",\"offentlighedskode\":\"O\",\"dato\":\"2012-10-09T13:00:00\",\"statusid\":4,\"typeid\":1,\"periodeid\":31,\"opdateringsdato\":\"2016-01-06T16:22:46.307\"\\r\\n    },{\\r\\n      \"id\":52,\"titel\":\"M\\\\u00f8de i Europaudvalget\",\"lokale\":\"\",\"nummer\":\"1\",\"dagsordenurl\":\"\",\"starttidsbem\\\\u00e6rkning\":\"kl. 10.00\",\"offentlighedskode\":\"O\",\"dato\":\"2012-10-05T10:00:00\",\"statusid\":2,\"typeid\":2,\"periodeid\":31,\"opdateringsdato\":\"2016-01-06T16:23:35.977\"\\r\\n    },{\\r\\n      \"id\":60,\"titel\":\"M\\\\u00f8de i salen\",\"lokale\":\"\",\"nummer\":\"5\",\"dagsordenurl\":\"\",\"starttidsbem\\\\u00e6rkning\":\"13.00\",\"offentlighedskode\":\"O\",\"dato\":\"2012-10-10T13:00:00\",\"statusid\":4,\"typeid\":1,\"periodeid\":31,\"opdateringsdato\":\"2016-01-06T16:22:46.337\"\\r\\n    },{\\r\\n      \"id\":61,\"titel\":\"M\\\\u00f8de i salen\",\"lokale\":\"\",\"nummer\":\"6\",\"dagsordenurl\":\"\",\"starttidsbem\\\\u00e6rkning\":\"10.00\",\"offentlighedskode\":\"O\",\"dato\":\"2012-10-11T10:00:00\",\"statusid\":4,\"typeid\":1,\"periodeid\":31,\"opdateringsdato\":\"2016-01-06T16:22:46.383\"\\r\\n    },{\\r\\n      \"id\":62,\"titel\":\"M\\\\u00f8de i salen\",\"lokale\":\"\",\"nummer\":\"7\",\"dagsordenurl\":\"\",\"starttidsbem\\\\u00e6rkning\":\"13.00\",\"offentlighedskode\":\"O\",\"dato\":\"2012-10-23T13:00:00\",\"statusid\":4,\"typeid\":1,\"periodeid\":31,\"opdateringsdato\":\"2016-01-06T16:22:46.413\"\\r\\n    },{\\r\\n      \"id\":63,\"titel\":\"M\\\\u00f8de i salen\",\"lokale\":\"\",\"nummer\":\"8\",\"dagsordenurl\":\"\",\"starttidsbem\\\\u00e6rkning\":\"13.00\",\"offentlighedskode\":\"O\",\"dato\":\"2012-10-24T13:00:00\",\"statusid\":4,\"typeid\":1,\"periodeid\":31,\"opdateringsdato\":\"2016-01-06T16:22:46.46\"\\r\\n    },{\\r\\n      \"id\":64,\"titel\":\"M\\\\u00f8de i salen\",\"lokale\":\"\",\"nummer\":\"9\",\"dagsordenurl\":\"\",\"starttidsbem\\\\u00e6rkning\":\"10.00\",\"offentlighedskode\":\"O\",\"dato\":\"2012-10-25T10:00:00\",\"statusid\":4,\"typeid\":1,\"periodeid\":31,\"opdateringsdato\":\"2016-01-06T16:22:46.507\"\\r\\n    },{\\r\\n      \"id\":65,\"titel\":\"M\\\\u00f8de i salen\",\"lokale\":\"\",\"nummer\":\"10\",\"dagsordenurl\":\"\",\"starttidsbem\\\\u00e6rkning\":\"10.00\",\"offentlighedskode\":\"O\",\"dato\":\"2012-10-26T10:00:00\",\"statusid\":4,\"typeid\":1,\"periodeid\":31,\"opdateringsdato\":\"2016-01-06T16:22:46.557\"\\r\\n    },{\\r\\n      \"id\":66,\"titel\":\"M\\\\u00f8de i salen\",\"lokale\":\"\",\"nummer\":\"12\",\"dagsordenurl\":\"\",\"starttidsbem\\\\u00e6rkning\":\"10.00\",\"offentlighedskode\":\"O\",\"dato\":\"2012-11-01T10:00:00\",\"statusid\":4,\"typeid\":1,\"periodeid\":31,\"opdateringsdato\":\"2016-01-06T16:22:46.587\"\\r\\n    },{\\r\\n      \"id\":67,\"titel\":\"M\\\\u00f8de i salen\",\"lokale\":\"\",\"nummer\":\"13\",\"dagsordenurl\":\"\",\"starttidsbem\\\\u00e6rkning\":\"10.00\",\"offentlighedskode\":\"O\",\"dato\":\"2012-11-02T10:00:00\",\"statusid\":4,\"typeid\":1,\"periodeid\":31,\"opdateringsdato\":\"2016-01-06T16:22:46.633\"\\r\\n    },{\\r\\n      \"id\":68,\"titel\":\"M\\\\u00f8de i salen\",\"lokale\":\"\",\"nummer\":\"16\",\"dagsordenurl\":\"\",\"starttidsbem\\\\u00e6rkning\":\"13.00\",\"offentlighedskode\":\"O\",\"dato\":\"2012-11-07T13:00:00\",\"statusid\":4,\"typeid\":1,\"periodeid\":31,\"opdateringsdato\":\"2016-01-06T16:22:46.757\"\\r\\n    },{\\r\\n      \"id\":69,\"titel\":\"M\\\\u00f8de i salen\",\"lokale\":\"\",\"nummer\":\"14\",\"dagsordenurl\":\"\",\"starttidsbem\\\\u00e6rkning\":\"13.00\",\"offentlighedskode\":\"O\",\"dato\":\"2012-11-06T13:00:00\",\"statusid\":4,\"typeid\":1,\"periodeid\":31,\"opdateringsdato\":\"2016-01-06T16:22:46.71\"\\r\\n    },{\\r\\n      \"id\":70,\"titel\":\"M\\\\u00f8de i salen\",\"lokale\":\"\",\"nummer\":\"18\",\"dagsordenurl\":\"\",\"starttidsbem\\\\u00e6rkning\":\"13.00\",\"offentlighedskode\":\"O\",\"dato\":\"2012-11-13T13:00:00\",\"statusid\":4,\"typeid\":1,\"periodeid\":31,\"opdateringsdato\":\"2016-01-06T16:22:46.837\"\\r\\n    },{\\r\\n      \"id\":71,\"titel\":\"M\\\\u00f8de i salen\",\"lokale\":\"\",\"nummer\":\"17\",\"dagsordenurl\":\"\",\"starttidsbem\\\\u00e6rkning\":\"10.00\",\"offentlighedskode\":\"O\",\"dato\":\"2012-11-08T10:00:00\",\"statusid\":4,\"typeid\":1,\"periodeid\":31,\"opdateringsdato\":\"2016-01-06T16:22:46.807\"\\r\\n    },{\\r\\n      \"id\":72,\"titel\":\"M\\\\u00f8de i salen\",\"lokale\":\"\",\"nummer\":\"19\",\"dagsordenurl\":\"\",\"starttidsbem\\\\u00e6rkning\":\"13.00\",\"offentlighedskode\":\"O\",\"dato\":\"2012-11-14T13:00:00\",\"statusid\":4,\"typeid\":1,\"periodeid\":31,\"opdateringsdato\":\"2016-01-06T16:22:47.007\"\\r\\n    },{\\r\\n      \"id\":77,\"titel\":\"M\\\\u00f8de i salen\",\"lokale\":\"\",\"nummer\":\"20\",\"dagsordenurl\":\"\",\"starttidsbem\\\\u00e6rkning\":\"10.00\",\"offentlighedskode\":\"O\",\"dato\":\"2012-11-15T10:00:00\",\"statusid\":4,\"typeid\":1,\"periodeid\":31,\"opdateringsdato\":\"2016-01-06T16:22:47.07\"\\r\\n    },{\\r\\n      \"id\":78,\"titel\":\"M\\\\u00f8de i salen\",\"lokale\":\"\",\"nummer\":\"21\",\"dagsordenurl\":\"\",\"starttidsbem\\\\u00e6rkning\":\"10.00\",\"offentlighedskode\":\"O\",\"dato\":\"2012-11-16T10:00:00\",\"statusid\":4,\"typeid\":1,\"periodeid\":31,\"opdateringsdato\":\"2016-01-06T16:22:47.1\"\\r\\n    },{\\r\\n      \"id\":79,\"titel\":\"M\\\\u00f8de i salen\",\"lokale\":\"\",\"nummer\":\"22\",\"dagsordenurl\":\"\",\"starttidsbem\\\\u00e6rkning\":\"13.00\",\"offentlighedskode\":\"O\",\"dato\":\"2012-11-20T13:00:00\",\"statusid\":4,\"typeid\":1,\"periodeid\":31,\"opdateringsdato\":\"2016-01-06T16:22:47.133\"\\r\\n    },{\\r\\n      \"id\":80,\"titel\":\"M\\\\u00f8de i salen\",\"lokale\":\"\",\"nummer\":\"23\",\"dagsordenurl\":\"\",\"starttidsbem\\\\u00e6rkning\":\"13.00\",\"offentlighedskode\":\"O\",\"dato\":\"2012-11-21T13:00:00\",\"statusid\":4,\"typeid\":1,\"periodeid\":31,\"opdateringsdato\":\"2016-01-06T16:22:47.197\"\\r\\n    },{\\r\\n      \"id\":81,\"titel\":\"M\\\\u00f8de i salen\",\"lokale\":\"\",\"nummer\":\"24\",\"dagsordenurl\":\"\",\"starttidsbem\\\\u00e6rkning\":\"10.00\",\"offentlighedskode\":\"O\",\"dato\":\"2012-11-22T10:00:00\",\"statusid\":4,\"typeid\":1,\"periodeid\":31,\"opdateringsdato\":\"2016-01-06T16:22:47.243\"\\r\\n    },{\\r\\n      \"id\":82,\"titel\":\"M\\\\u00f8de i salen\",\"lokale\":\"\",\"nummer\":\"26\",\"dagsordenurl\":\"\",\"starttidsbem\\\\u00e6rkning\":\"12.00\",\"offentlighedskode\":\"O\",\"dato\":\"2012-11-27T12:00:00\",\"statusid\":4,\"typeid\":1,\"periodeid\":31,\"opdateringsdato\":\"2016-01-06T16:22:47.337\"\\r\\n    },{\\r\\n      \"id\":83,\"titel\":\"M\\\\u00f8de i salen\",\"lokale\":\"\",\"nummer\":\"25\",\"dagsordenurl\":\"\",\"starttidsbem\\\\u00e6rkning\":\"10.00\",\"offentlighedskode\":\"O\",\"dato\":\"2012-11-23T10:00:00\",\"statusid\":4,\"typeid\":1,\"periodeid\":31,\"opdateringsdato\":\"2016-01-06T16:22:47.273\"\\r\\n    },{\\r\\n      \"id\":84,\"titel\":\"M\\\\u00f8de i salen\",\"lokale\":\"\",\"nummer\":\"28\",\"dagsordenurl\":\"\",\"starttidsbem\\\\u00e6rkning\":\"10.00\",\"offentlighedskode\":\"O\",\"dato\":\"2012-11-29T10:00:00\",\"statusid\":4,\"typeid\":1,\"periodeid\":31,\"opdateringsdato\":\"2016-01-06T16:22:47.413\"\\r\\n    },{\\r\\n      \"id\":85,\"titel\":\"M\\\\u00f8de i salen\",\"lokale\":\"\",\"nummer\":\"27\",\"dagsordenurl\":\"\",\"starttidsbem\\\\u00e6rkning\":\"13.00\",\"offentlighedskode\":\"O\",\"dato\":\"2012-11-28T13:00:00\",\"statusid\":4,\"typeid\":1,\"periodeid\":31,\"opdateringsdato\":\"2016-01-06T16:22:47.383\"\\r\\n    },{\\r\\n      \"id\":87,\"titel\":\"M\\\\u00f8de i salen\",\"lokale\":\"\",\"nummer\":\"29\",\"dagsordenurl\":\"\",\"starttidsbem\\\\u00e6rkning\":\"10.00\",\"offentlighedskode\":\"O\",\"dato\":\"2012-11-30T10:00:00\",\"statusid\":4,\"typeid\":1,\"periodeid\":31,\"opdateringsdato\":\"2016-01-06T16:22:47.46\"\\r\\n    },{\\r\\n      \"id\":107,\"titel\":\"M\\\\u00f8de i Europaudvalget\",\"lokale\":\"V\\\\u00e6r. 2-133\",\"nummer\":\"4\",\"dagsordenurl\":\"\",\"starttidsbem\\\\u00e6rkning\":\"5 min. efter m\\\\u00f8det i UPN, dog tidl. kl. 10.45\",\"offentlighedskode\":\"O\",\"dato\":\"2012-10-25T00:00:00\",\"statusid\":2,\"typeid\":2,\"periodeid\":31,\"opdateringsdato\":\"2016-01-06T16:23:36.21\"\\r\\n    },{\\r\\n      \"id\":109,\"titel\":\"M\\\\u00f8de i Europaudvalget\",\"lokale\":\"V\\\\u00e6r. 2-133\",\"nummer\":\"5\",\"dagsordenurl\":\"\",\"starttidsbem\\\\u00e6rkning\":\"Kl. 10.00\",\"offentlighedskode\":\"O\",\"dato\":\"2012-10-26T10:00:00\",\"statusid\":2,\"typeid\":2,\"periodeid\":31,\"opdateringsdato\":\"2016-01-06T16:23:36.163\"\\r\\n    },{\\r\\n      \"id\":115,\"titel\":\"M\\\\u00f8de i Europaudvalget\",\"lokale\":\"v\\\\u00e6relse 2-133\",\"nummer\":\"2\",\"dagsordenurl\":\"\",\"starttidsbem\\\\u00e6rkning\":\"Kl. 10.00\",\"offentlighedskode\":\"O\",\"dato\":\"2012-10-12T10:00:00\",\"statusid\":2,\"typeid\":2,\"periodeid\":31,\"opdateringsdato\":\"2016-01-06T16:23:36.04\"\\r\\n    },{\\r\\n      \"id\":128,\"titel\":\"M\\\\u00f8de i Europaudvalget\",\"lokale\":\"V\\\\u00e6r. 2-133\",\"nummer\":\"3\",\"dagsordenurl\":\"\",\"starttidsbem\\\\u00e6rkning\":\"5 minutter efter m\\\\u00f8det i UPN, dog tidligst kl. 8.30\",\"offentlighedskode\":\"O\",\"dato\":\"2012-10-17T00:00:00\",\"statusid\":2,\"typeid\":2,\"periodeid\":31,\"opdateringsdato\":\"2016-01-06T16:23:36.117\"\\r\\n    },{\\r\\n      \"id\":134,\"titel\":\"M\\\\u00f8de i salen\",\"lokale\":\"\",\"nummer\":\"11\",\"dagsordenurl\":\"\",\"starttidsbem\\\\u00e6rkning\":\"13.00\",\"offentlighedskode\":\"O\",\"dato\":\"2012-10-30T13:00:00\",\"statusid\":4,\"typeid\":1,\"periodeid\":31,\"opdateringsdato\":\"2016-01-06T16:23:36.257\"\\r\\n    },{\\r\\n      \"id\":156,\"titel\":\"M\\\\u00f8de i salen\",\"lokale\":\"\",\"nummer\":\"15\",\"dagsordenurl\":\"\",\"starttidsbem\\\\u00e6rkning\":\"M\\\\u00f8det starter umiddelbart efter m\\\\u00f8de 14 er slut.\",\"offentlighedskode\":\"O\",\"dato\":\"2012-11-06T00:00:00\",\"statusid\":4,\"typeid\":1,\"periodeid\":31,\"opdateringsdato\":\"2016-01-06T16:23:36.32\"\\r\\n    },{\\r\\n      \"id\":157,\"titel\":\"M\\\\u00f8de i Europaudvalget\",\"lokale\":\"V\\\\u00e6r. 2-133\",\"nummer\":\"7\",\"dagsordenurl\":\"\",\"starttidsbem\\\\u00e6rkning\":\"Kl. 11.00\",\"offentlighedskode\":\"O\",\"dato\":\"2012-11-09T11:00:00\",\"statusid\":2,\"typeid\":2,\"periodeid\":31,\"opdateringsdato\":\"2016-01-06T16:23:36.35\"\\r\\n    },{\\r\\n      \"id\":238,\"titel\":\"M\\\\u00f8de i UUI\",\"lokale\":\"2-080\",\"nummer\":null,\"dagsordenurl\":\"\",\"starttidsbem\\\\u00e6rkning\":\"kl. 14.00\",\"offentlighedskode\":\"O\",\"dato\":\"2014-09-18T14:00:00\",\"statusid\":2,\"typeid\":2,\"periodeid\":32,\"opdateringsdato\":\"2014-11-12T09:15:15.743\"\\r\\n    },{\\r\\n      \"id\":239,\"titel\":\"M\\\\u00f8de i SUU den 23/9-14\",\"lokale\":\"1-133\",\"nummer\":null,\"dagsordenurl\":\"\",\"starttidsbem\\\\u00e6rkning\":\"Kl. 15.00\",\"offentlighedskode\":\"O\",\"dato\":\"2014-09-23T15:00:00\",\"statusid\":2,\"typeid\":2,\"periodeid\":32,\"opdateringsdato\":\"2014-11-12T09:12:49.713\"\\r\\n    },{\\r\\n      \"id\":240,\"titel\":\"M\\\\u00f8de i EUU\",\"lokale\":\"2-133\",\"nummer\":\"39\",\"dagsordenurl\":\"\",\"starttidsbem\\\\u00e6rkning\":\"Kl. 10.00\",\"offentlighedskode\":\"O\",\"dato\":\"2014-09-26T10:00:00\",\"statusid\":2,\"typeid\":2,\"periodeid\":32,\"opdateringsdato\":\"2014-11-12T09:18:30.947\"\\r\\n    },{\\r\\n      \"id\":241,\"titel\":\"Socialudvalget - \\\\u00e5bent samr\\\\u00e5d\",\"lokale\":\"2-080\",\"nummer\":null,\"dagsordenurl\":\"\",\"starttidsbem\\\\u00e6rkning\":\"Kl. 15.00\",\"offentlighedskode\":\"O\",\"dato\":\"2014-09-30T15:00:00\",\"statusid\":3,\"typeid\":2,\"periodeid\":32,\"opdateringsdato\":\"2014-11-12T09:14:12.133\"\\r\\n    },{\\r\\n      \"id\":242,\"titel\":\"Fejloprettelse\",\"lokale\":\"\",\"nummer\":null,\"dagsordenurl\":\"\",\"starttidsbem\\\\u00e6rkning\":\"\",\"offentlighedskode\":\"O\",\"dato\":\"2014-09-14T00:00:00\",\"statusid\":1,\"typeid\":2,\"periodeid\":32,\"opdateringsdato\":\"2014-09-19T14:46:34.443\"\\r\\n    },{\\r\\n      \"id\":243,\"titel\":\"Socialudvalget | \\\\u00e5bent samr\\\\u00e5d\",\"lokale\":\"1-133\",\"nummer\":null,\"dagsordenurl\":\"\",\"starttidsbem\\\\u00e6rkning\":\"Kl. 9.45\",\"offentlighedskode\":\"O\",\"dato\":\"2014-10-02T09:45:00\",\"statusid\":2,\"typeid\":2,\"periodeid\":32,\"opdateringsdato\":\"2014-10-02T18:59:05.737\"\\r\\n    },{\\r\\n      \"id\":244,\"titel\":\"Transportudvalget - \\\\u00e5bent samr\\\\u00e5d\",\"lokale\":\"2-133\",\"nummer\":null,\"dagsordenurl\":\"\",\"starttidsbem\\\\u00e6rkning\":\"kl. 13.00\",\"offentlighedskode\":\"O\",\"dato\":\"2014-09-25T13:00:00\",\"statusid\":1,\"typeid\":2,\"periodeid\":32,\"opdateringsdato\":\"2014-09-29T16:27:51.6\"\\r\\n    },{\\r\\n      \"id\":245,\"titel\":\"BEU | \\\\u00c5bent samr\\\\u00e5d\",\"lokale\":\"2-133\",\"nummer\":\"33\",\"dagsordenurl\":\"\",\"starttidsbem\\\\u00e6rkning\":\"kl. 13.30\",\"offentlighedskode\":\"O\",\"dato\":\"2014-10-01T13:30:00\",\"statusid\":2,\"typeid\":2,\"periodeid\":32,\"opdateringsdato\":\"2014-11-12T09:19:00.757\"\\r\\n    },{\\r\\n      \"id\":246,\"titel\":\"LIU\",\"lokale\":\"2-145\",\"nummer\":null,\"dagsordenurl\":\"\",\"starttidsbem\\\\u00e6rkning\":\"Kl. 10.00\",\"offentlighedskode\":\"O\",\"dato\":\"2014-10-21T10:00:00\",\"statusid\":2,\"typeid\":2,\"periodeid\":35,\"opdateringsdato\":\"2014-10-21T11:27:59.557\"\\r\\n    },{\\r\\n      \"id\":247,\"titel\":\"M\\\\u00f8de i salen\",\"lokale\":\"\",\"nummer\":\"34\",\"dagsordenurl\":\"\",\"starttidsbem\\\\u00e6rkning\":\"13.00\",\"offentlighedskode\":\"O\",\"dato\":\"2012-12-12T13:00:00\",\"statusid\":4,\"typeid\":1,\"periodeid\":31,\"opdateringsdato\":\"2016-01-06T16:22:48.46\"\\r\\n    },{\\r\\n      \"id\":248,\"titel\":\"M\\\\u00f8de i salen\",\"lokale\":\"\",\"nummer\":\"33\",\"dagsordenurl\":\"\",\"starttidsbem\\\\u00e6rkning\":\"13.00\",\"offentlighedskode\":\"O\",\"dato\":\"2012-12-11T13:00:00\",\"statusid\":4,\"typeid\":1,\"periodeid\":31,\"opdateringsdato\":\"2016-01-06T16:22:48.413\"\\r\\n    },{\\r\\n      \"id\":249,\"titel\":\"M\\\\u00f8de i salen\",\"lokale\":\"\",\"nummer\":\"35\",\"dagsordenurl\":\"\",\"starttidsbem\\\\u00e6rkning\":\"10.00\",\"offentlighedskode\":\"O\",\"dato\":\"2012-12-13T10:00:00\",\"statusid\":4,\"typeid\":1,\"periodeid\":31,\"opdateringsdato\":\"2016-01-06T16:22:48.507\"\\r\\n    },{\\r\\n      \"id\":250,\"titel\":\"M\\\\u00f8de i salen\",\"lokale\":\"\",\"nummer\":\"36\",\"dagsordenurl\":\"\",\"starttidsbem\\\\u00e6rkning\":\"10.00\",\"offentlighedskode\":\"O\",\"dato\":\"2012-12-14T10:00:00\",\"statusid\":4,\"typeid\":1,\"periodeid\":31,\"opdateringsdato\":\"2016-01-06T16:22:48.54\"\\r\\n    },{\\r\\n      \"id\":251,\"titel\":\"M\\\\u00f8de i salen\",\"lokale\":\"\",\"nummer\":\"39\",\"dagsordenurl\":\"\",\"starttidsbem\\\\u00e6rkning\":\"9.00\",\"offentlighedskode\":\"O\",\"dato\":\"2012-12-19T09:00:00\",\"statusid\":4,\"typeid\":1,\"periodeid\":31,\"opdateringsdato\":\"2016-01-06T16:22:48.647\"\\r\\n    },{\\r\\n      \"id\":252,\"titel\":\"M\\\\u00f8de i salen\",\"lokale\":\"\",\"nummer\":\"38\",\"dagsordenurl\":\"\",\"starttidsbem\\\\u00e6rkning\":\"9.00\",\"offentlighedskode\":\"O\",\"dato\":\"2012-12-18T09:00:00\",\"statusid\":4,\"typeid\":1,\"periodeid\":31,\"opdateringsdato\":\"2016-01-06T16:22:48.617\"\\r\\n    },{\\r\\n      \"id\":264,\"titel\":\"M\\\\u00f8de i salen\",\"lokale\":\"\",\"nummer\":\"37\",\"dagsordenurl\":\"\",\"starttidsbem\\\\u00e6rkning\":\"13.00\",\"offentlighedskode\":\"O\",\"dato\":\"2012-12-17T13:00:00\",\"statusid\":4,\"typeid\":1,\"periodeid\":31,\"opdateringsdato\":\"2016-01-06T16:23:36.397\"\\r\\n    },{\\r\\n      \"id\":268,\"titel\":\"M\\\\u00f8de i Europaudvalget\",\"lokale\":\"2-133\",\"nummer\":\"12\",\"dagsordenurl\":\"\",\"starttidsbem\\\\u00e6rkning\":\"Kl. 11.00\",\"offentlighedskode\":\"O\",\"dato\":\"2012-12-07T11:00:00\",\"statusid\":2,\"typeid\":2,\"periodeid\":31,\"opdateringsdato\":\"2016-01-06T16:23:36.43\"\\r\\n    },{\\r\\n      \"id\":292,\"titel\":\"M\\\\u00f8de i Europaudvalget\",\"lokale\":\"V\\\\u00e6r. 2-133\",\"nummer\":\"14\",\"dagsordenurl\":\"\",\"starttidsbem\\\\u00e6rkning\":\"Kl. 08.00\",\"offentlighedskode\":\"O\",\"dato\":\"2012-12-14T08:00:00\",\"statusid\":2,\"typeid\":2,\"periodeid\":31,\"opdateringsdato\":\"2016-01-06T16:23:36.523\"\\r\\n    },{\\r\\n      \"id\":329,\"titel\":\"M\\\\u00f8de i salen\",\"lokale\":\"\",\"nummer\":\"40\",\"dagsordenurl\":\"\",\"starttidsbem\\\\u00e6rkning\":\"10.00\",\"offentlighedskode\":\"O\",\"dato\":\"2013-01-10T10:00:00\",\"statusid\":4,\"typeid\":1,\"periodeid\":31,\"opdateringsdato\":\"2016-01-06T16:22:48.727\"\\r\\n    },{\\r\\n      \"id\":330,\"titel\":\"M\\\\u00f8de i salen\",\"lokale\":\"\",\"nummer\":\"41\",\"dagsordenurl\":\"\",\"starttidsbem\\\\u00e6rkning\":\"10.00\",\"offentlighedskode\":\"O\",\"dato\":\"2013-01-11T10:00:00\",\"statusid\":2,\"typeid\":1,\"periodeid\":31,\"opdateringsdato\":\"2016-01-06T16:22:48.79\"\\r\\n    },{\\r\\n      \"id\":331,\"titel\":\"M\\\\u00f8de i salen\",\"lokale\":\"\",\"nummer\":\"42\",\"dagsordenurl\":\"\",\"starttidsbem\\\\u00e6rkning\":\"13.00\",\"offentlighedskode\":\"O\",\"dato\":\"2013-01-15T13:00:00\",\"statusid\":2,\"typeid\":1,\"periodeid\":31,\"opdateringsdato\":\"2016-01-06T16:22:48.837\"\\r\\n    },{\\r\\n      \"id\":332,\"titel\":\"M\\\\u00f8de i salen\",\"lokale\":\"\",\"nummer\":\"45\",\"dagsordenurl\":\"\",\"starttidsbem\\\\u00e6rkning\":\"13.00\",\"offentlighedskode\":\"O\",\"dato\":\"2013-01-16T13:00:00\",\"statusid\":2,\"typeid\":1,\"periodeid\":31,\"opdateringsdato\":\"2016-01-06T16:23:08.96\"\\r\\n    },{\\r\\n      \"id\":333,\"titel\":\"M\\\\u00f8de i salen\",\"lokale\":\"\",\"nummer\":\"46\",\"dagsordenurl\":\"\",\"starttidsbem\\\\u00e6rkning\":\"10.00\",\"offentlighedskode\":\"O\",\"dato\":\"2013-01-17T10:00:00\",\"statusid\":2,\"typeid\":1,\"periodeid\":31,\"opdateringsdato\":\"2016-01-06T16:23:09.007\"\\r\\n    },{\\r\\n      \"id\":334,\"titel\":\"M\\\\u00f8de i salen\",\"lokale\":\"\",\"nummer\":\"47\",\"dagsordenurl\":\"\",\"starttidsbem\\\\u00e6rkning\":\"10.00\",\"offentlighedskode\":\"O\",\"dato\":\"2013-01-18T10:00:00\",\"statusid\":2,\"typeid\":1,\"periodeid\":31,\"opdateringsdato\":\"2016-01-06T16:23:09.057\"\\r\\n    },{\\r\\n      \"id\":335,\"titel\":\"M\\\\u00f8de i salen\",\"lokale\":\"\",\"nummer\":\"49\",\"dagsordenurl\":\"\",\"starttidsbem\\\\u00e6rkning\":\"\",\"offentlighedskode\":\"O\",\"dato\":\"2013-01-23T13:00:00\",\"statusid\":2,\"typeid\":1,\"periodeid\":31,\"opdateringsdato\":\"2016-01-06T16:23:09.147\"\\r\\n    },{\\r\\n      \"id\":336,\"titel\":\"M\\\\u00f8de i salen\",\"lokale\":\"\",\"nummer\":\"48\",\"dagsordenurl\":\"\",\"starttidsbem\\\\u00e6rkning\":\"13.00\",\"offentlighedskode\":\"O\",\"dato\":\"2013-01-22T13:00:00\",\"statusid\":2,\"typeid\":1,\"periodeid\":31,\"opdateringsdato\":\"2016-01-06T16:23:09.1\"\\r\\n    },{\\r\\n      \"id\":337,\"titel\":\"M\\\\u00f8de i salen\",\"lokale\":\"\",\"nummer\":\"50\",\"dagsordenurl\":\"\",\"starttidsbem\\\\u00e6rkning\":\"10.00\",\"offentlighedskode\":\"O\",\"dato\":\"2013-01-24T10:00:00\",\"statusid\":2,\"typeid\":1,\"periodeid\":31,\"opdateringsdato\":\"2016-01-06T16:23:09.243\"\\r\\n    },{\\r\\n      \"id\":338,\"titel\":\"M\\\\u00f8de i salen\",\"lokale\":\"\",\"nummer\":\"54\",\"dagsordenurl\":\"\",\"starttidsbem\\\\u00e6rkning\":\"13:00\",\"offentlighedskode\":\"O\",\"dato\":\"2013-01-31T13:00:00\",\"statusid\":2,\"typeid\":1,\"periodeid\":31,\"opdateringsdato\":\"2016-01-06T16:23:09.447\"\\r\\n    }\\r\\n  ],\"odata.nextLink\":\"https://oda.ft.dk/api/M%C3%B8de?$skip=100\"\\r\\n}'"
      ]
     },
     "execution_count": 46,
     "metadata": {},
     "output_type": "execute_result"
    }
   ],
   "source": [
    "data"
   ]
  },
  {
   "cell_type": "code",
   "execution_count": 47,
   "metadata": {},
   "outputs": [
    {
     "data": {
      "text/plain": [
       "<http.client.HTTPResponse at 0x7fad3d3c7450>"
      ]
     },
     "execution_count": 47,
     "metadata": {},
     "output_type": "execute_result"
    }
   ],
   "source": [
    "response"
   ]
  },
  {
   "cell_type": "code",
   "execution_count": 48,
   "metadata": {},
   "outputs": [],
   "source": [
    "link = root+ressource+query"
   ]
  },
  {
   "cell_type": "code",
   "execution_count": 49,
   "metadata": {},
   "outputs": [
    {
     "data": {
      "text/plain": [
       "'https://oda.ft.dk/api/M%C3%B8de?$top=2&$orderby=name'"
      ]
     },
     "execution_count": 49,
     "metadata": {},
     "output_type": "execute_result"
    }
   ],
   "source": [
    "link"
   ]
  },
  {
   "cell_type": "code",
   "execution_count": 108,
   "metadata": {},
   "outputs": [],
   "source": [
    "url2 = 'https://oda.ft.dk/API/Sag?$expand=Sagstype&$filter=Sagstype/type%20eq%20%M%C3%B8de'"
   ]
  },
  {
   "cell_type": "code",
   "execution_count": null,
   "metadata": {},
   "outputs": [],
   "source": []
  }
 ],
 "metadata": {
  "kernelspec": {
   "display_name": "Python 3",
   "language": "python",
   "name": "python3"
  },
  "language_info": {
   "codemirror_mode": {
    "name": "ipython",
    "version": 3
   },
   "file_extension": ".py",
   "mimetype": "text/x-python",
   "name": "python",
   "nbconvert_exporter": "python",
   "pygments_lexer": "ipython3",
   "version": "3.7.4"
  }
 },
 "nbformat": 4,
 "nbformat_minor": 2
}
