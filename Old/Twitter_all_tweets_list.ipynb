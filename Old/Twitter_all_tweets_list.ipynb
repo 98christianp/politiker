{
 "cells": [
  {
   "cell_type": "markdown",
   "metadata": {},
   "source": [
    "# Connect to twitter"
   ]
  },
  {
   "cell_type": "code",
   "execution_count": 1,
   "metadata": {},
   "outputs": [],
   "source": [
    "import pickle\n",
    "import tweepy\n",
    "import re #https://developers.google.com/edu/python/regular-expressions\n",
    "import pandas as pd\n",
    "\n",
    "import networkx as nx\n",
    "import matplotlib.pyplot as plt"
   ]
  },
  {
   "cell_type": "code",
   "execution_count": 2,
   "metadata": {},
   "outputs": [],
   "source": [
    "#User = 'Lau' #['Lau', 'Frederik', 'Christian']\n",
    "User='Frederik'\n",
    "save_ja_tak = False"
   ]
  },
  {
   "cell_type": "markdown",
   "metadata": {},
   "source": [
    "Loading the policians:"
   ]
  },
  {
   "cell_type": "code",
   "execution_count": 3,
   "metadata": {},
   "outputs": [],
   "source": [
    "data=pd.read_csv(\"danish_politkere_twitter.csv\")"
   ]
  },
  {
   "cell_type": "code",
   "execution_count": 4,
   "metadata": {},
   "outputs": [],
   "source": [
    "data.loc[data['Twittername']==\"SosseSass\",\"Twittername\"]=\"SassLarsen\"\n",
    "data.loc[data['Twittername']==\"GeertsenVenstre\",\"Twittername\"]=\"Martin_geertsen\"\n",
    "data.loc[data['Twittername']==\"SkovAndersen\",\"Twittername\"]=\"KristianSkov21\""
   ]
  },
  {
   "cell_type": "code",
   "execution_count": 5,
   "metadata": {},
   "outputs": [],
   "source": [
    "twitter_name_list=list(data[\"Twittername\"])"
   ]
  },
  {
   "cell_type": "markdown",
   "metadata": {},
   "source": [
    "Using: Lauskij@gmail.com"
   ]
  },
  {
   "cell_type": "code",
   "execution_count": 6,
   "metadata": {},
   "outputs": [],
   "source": [
    "#Load keys (everytime except first)\n",
    "with open('api_key_'+User+'.data', 'rb') as filehandle:\n",
    "    api_key = pickle.load(filehandle) \n",
    "with open('api_key_secret_'+User+'.data', 'rb') as filehandle:\n",
    "    api_secret_key = pickle.load(filehandle)\n",
    "with open('access_token_'+User+'.data', 'rb') as filehandle:\n",
    "    access_token = pickle.load(filehandle)\n",
    "with open('access_token_secret_'+User+'.data', 'rb') as filehandle:\n",
    "    access_token_secret = pickle.load(filehandle)"
   ]
  },
  {
   "cell_type": "code",
   "execution_count": 7,
   "metadata": {},
   "outputs": [
    {
     "data": {
      "text/plain": [
       "'\\nif User == \\'Lau\\':\\n    api_key = \"\"\\n    api_secret_key = \"\"\\n    access_token = \"\"\\n    access_token_secret = \"\"\\n    \\nelif User == \\'Frederik\\':\\n    api_key = \"\"\\n    api_secret_key = \"\"\\n    access_token = \"\"\\n    access_token_secret = \"\"\\n    \\nelif User == \\'Christian\\':\\n    api_key = \"\"\\n    api_secret_key = \"\"\\n    access_token = \"\"\\n    access_token_secret = \"\"\\n    \\n#Save keys (once)\\nif save_ja_tak == True:\\n    with open(\\'api_key_\\'+User+\\'.data\\', \\'wb\\') as filehandle:\\n        # store the data as binary data stream\\n        pickle.dump(api_key, filehandle)\\n    with open(\\'api_key_secret_\\'+User+\\'.data\\', \\'wb\\') as filehandle:\\n        # store the data as binary data stream\\n        pickle.dump(api_secret_key, filehandle)\\n    with open(\\'access_token_\\'+User+\\'.data\\', \\'wb\\') as filehandle:\\n        # store the data as binary data stream\\n        pickle.dump(access_token, filehandle)\\n    with open(\\'access_token_secret_\\'+User+\\'.data\\', \\'wb\\') as filehandle:\\n        # store the data as binary data stream\\n        pickle.dump(access_token_secret, filehandle)\\n        '"
      ]
     },
     "execution_count": 7,
     "metadata": {},
     "output_type": "execute_result"
    }
   ],
   "source": [
    "'''\n",
    "if User == 'Lau':\n",
    "    api_key = \"\"\n",
    "    api_secret_key = \"\"\n",
    "    access_token = \"\"\n",
    "    access_token_secret = \"\"\n",
    "    \n",
    "elif User == 'Frederik':\n",
    "    api_key = \"\"\n",
    "    api_secret_key = \"\"\n",
    "    access_token = \"\"\n",
    "    access_token_secret = \"\"\n",
    "    \n",
    "elif User == 'Christian':\n",
    "    api_key = \"\"\n",
    "    api_secret_key = \"\"\n",
    "    access_token = \"\"\n",
    "    access_token_secret = \"\"\n",
    "    \n",
    "#Save keys (once)\n",
    "if save_ja_tak == True:\n",
    "    with open('api_key_'+User+'.data', 'wb') as filehandle:\n",
    "        # store the data as binary data stream\n",
    "        pickle.dump(api_key, filehandle)\n",
    "    with open('api_key_secret_'+User+'.data', 'wb') as filehandle:\n",
    "        # store the data as binary data stream\n",
    "        pickle.dump(api_secret_key, filehandle)\n",
    "    with open('access_token_'+User+'.data', 'wb') as filehandle:\n",
    "        # store the data as binary data stream\n",
    "        pickle.dump(access_token, filehandle)\n",
    "    with open('access_token_secret_'+User+'.data', 'wb') as filehandle:\n",
    "        # store the data as binary data stream\n",
    "        pickle.dump(access_token_secret, filehandle)\n",
    "        '''"
   ]
  },
  {
   "cell_type": "markdown",
   "metadata": {},
   "source": [
    "Create API object"
   ]
  },
  {
   "cell_type": "code",
   "execution_count": 8,
   "metadata": {},
   "outputs": [],
   "source": [
    "# Creating the authentication object\n",
    "auth = tweepy.OAuthHandler(api_key, api_secret_key)\n",
    "# Setting your access token and secret\n",
    "auth.set_access_token(access_token, access_token_secret)\n",
    "# Creating the API object while passing in auth information\n",
    "api = tweepy.API(auth)"
   ]
  },
  {
   "cell_type": "markdown",
   "metadata": {},
   "source": [
    "Collecting posts:"
   ]
  },
  {
   "cell_type": "code",
   "execution_count": 9,
   "metadata": {},
   "outputs": [
    {
     "ename": "RateLimitError",
     "evalue": "[{'message': 'Rate limit exceeded', 'code': 88}]",
     "output_type": "error",
     "traceback": [
      "\u001b[0;31m---------------------------------------------------------------------------\u001b[0m",
      "\u001b[0;31mRateLimitError\u001b[0m                            Traceback (most recent call last)",
      "\u001b[0;32m<ipython-input-9-7f3e45ed94e2>\u001b[0m in \u001b[0;36m<module>\u001b[0;34m\u001b[0m\n\u001b[1;32m      6\u001b[0m \u001b[0;34m\u001b[0m\u001b[0m\n\u001b[1;32m      7\u001b[0m \u001b[0;31m# Calling the user_timeline function with our parameters\u001b[0m\u001b[0;34m\u001b[0m\u001b[0;34m\u001b[0m\u001b[0;34m\u001b[0m\u001b[0m\n\u001b[0;32m----> 8\u001b[0;31m \u001b[0mtweets\u001b[0m \u001b[0;34m=\u001b[0m \u001b[0mapi\u001b[0m\u001b[0;34m.\u001b[0m\u001b[0muser_timeline\u001b[0m\u001b[0;34m(\u001b[0m\u001b[0mid\u001b[0m\u001b[0;34m=\u001b[0m\u001b[0mname\u001b[0m\u001b[0;34m,\u001b[0m \u001b[0mcount\u001b[0m\u001b[0;34m=\u001b[0m\u001b[0mtweetCount\u001b[0m\u001b[0;34m,\u001b[0m\u001b[0mtweet_mode\u001b[0m\u001b[0;34m=\u001b[0m\u001b[0;34m'extended'\u001b[0m\u001b[0;34m)\u001b[0m\u001b[0;34m\u001b[0m\u001b[0;34m\u001b[0m\u001b[0m\n\u001b[0m\u001b[1;32m      9\u001b[0m \u001b[0;34m\u001b[0m\u001b[0m\n\u001b[1;32m     10\u001b[0m \u001b[0;31m# foreach through all tweets pulled\u001b[0m\u001b[0;34m\u001b[0m\u001b[0;34m\u001b[0m\u001b[0;34m\u001b[0m\u001b[0m\n",
      "\u001b[0;32m~/opt/anaconda3/lib/python3.7/site-packages/tweepy/binder.py\u001b[0m in \u001b[0;36m_call\u001b[0;34m(*args, **kwargs)\u001b[0m\n\u001b[1;32m    248\u001b[0m                 \u001b[0;32mreturn\u001b[0m \u001b[0mmethod\u001b[0m\u001b[0;34m\u001b[0m\u001b[0;34m\u001b[0m\u001b[0m\n\u001b[1;32m    249\u001b[0m             \u001b[0;32melse\u001b[0m\u001b[0;34m:\u001b[0m\u001b[0;34m\u001b[0m\u001b[0;34m\u001b[0m\u001b[0m\n\u001b[0;32m--> 250\u001b[0;31m                 \u001b[0;32mreturn\u001b[0m \u001b[0mmethod\u001b[0m\u001b[0;34m.\u001b[0m\u001b[0mexecute\u001b[0m\u001b[0;34m(\u001b[0m\u001b[0;34m)\u001b[0m\u001b[0;34m\u001b[0m\u001b[0;34m\u001b[0m\u001b[0m\n\u001b[0m\u001b[1;32m    251\u001b[0m         \u001b[0;32mfinally\u001b[0m\u001b[0;34m:\u001b[0m\u001b[0;34m\u001b[0m\u001b[0;34m\u001b[0m\u001b[0m\n\u001b[1;32m    252\u001b[0m             \u001b[0mmethod\u001b[0m\u001b[0;34m.\u001b[0m\u001b[0msession\u001b[0m\u001b[0;34m.\u001b[0m\u001b[0mclose\u001b[0m\u001b[0;34m(\u001b[0m\u001b[0;34m)\u001b[0m\u001b[0;34m\u001b[0m\u001b[0;34m\u001b[0m\u001b[0m\n",
      "\u001b[0;32m~/opt/anaconda3/lib/python3.7/site-packages/tweepy/binder.py\u001b[0m in \u001b[0;36mexecute\u001b[0;34m(self)\u001b[0m\n\u001b[1;32m    229\u001b[0m \u001b[0;34m\u001b[0m\u001b[0m\n\u001b[1;32m    230\u001b[0m                 \u001b[0;32mif\u001b[0m \u001b[0mis_rate_limit_error_message\u001b[0m\u001b[0;34m(\u001b[0m\u001b[0merror_msg\u001b[0m\u001b[0;34m)\u001b[0m\u001b[0;34m:\u001b[0m\u001b[0;34m\u001b[0m\u001b[0;34m\u001b[0m\u001b[0m\n\u001b[0;32m--> 231\u001b[0;31m                     \u001b[0;32mraise\u001b[0m \u001b[0mRateLimitError\u001b[0m\u001b[0;34m(\u001b[0m\u001b[0merror_msg\u001b[0m\u001b[0;34m,\u001b[0m \u001b[0mresp\u001b[0m\u001b[0;34m)\u001b[0m\u001b[0;34m\u001b[0m\u001b[0;34m\u001b[0m\u001b[0m\n\u001b[0m\u001b[1;32m    232\u001b[0m                 \u001b[0;32melse\u001b[0m\u001b[0;34m:\u001b[0m\u001b[0;34m\u001b[0m\u001b[0;34m\u001b[0m\u001b[0m\n\u001b[1;32m    233\u001b[0m                     \u001b[0;32mraise\u001b[0m \u001b[0mTweepError\u001b[0m\u001b[0;34m(\u001b[0m\u001b[0merror_msg\u001b[0m\u001b[0;34m,\u001b[0m \u001b[0mresp\u001b[0m\u001b[0;34m,\u001b[0m \u001b[0mapi_code\u001b[0m\u001b[0;34m=\u001b[0m\u001b[0mapi_error_code\u001b[0m\u001b[0;34m)\u001b[0m\u001b[0;34m\u001b[0m\u001b[0;34m\u001b[0m\u001b[0m\n",
      "\u001b[0;31mRateLimitError\u001b[0m: [{'message': 'Rate limit exceeded', 'code': 88}]"
     ]
    }
   ],
   "source": [
    "# The Twitter user who we want to get tweets from\n",
    "#name = \"vestager\"\n",
    "name = \"vestager\"\n",
    "# Number of tweets to pull\n",
    "tweetCount = 200\n",
    "\n",
    "# Calling the user_timeline function with our parameters\n",
    "tweets = api.user_timeline(id=name, count=tweetCount,tweet_mode='extended')\n",
    "\n",
    "# foreach through all tweets pulled\n",
    "for tweet in tweets:\n",
    "    # printing the text stored inside the tweet object\n",
    "    print(tweet.full_text)\n",
    "    print(80 * '-')\n",
    "    #print(tweet.created_at)"
   ]
  },
  {
   "cell_type": "code",
   "execution_count": 14,
   "metadata": {},
   "outputs": [
    {
     "data": {
      "text/plain": [
       "dict_keys(['Dummy', 'vestager', 'larsloekke'])"
      ]
     },
     "execution_count": 14,
     "metadata": {},
     "output_type": "execute_result"
    }
   ],
   "source": [
    "tweet_dict.keys()"
   ]
  },
  {
   "cell_type": "code",
   "execution_count": 15,
   "metadata": {},
   "outputs": [
    {
     "data": {
      "text/plain": [
       "dict_keys([])"
      ]
     },
     "execution_count": 15,
     "metadata": {},
     "output_type": "execute_result"
    }
   ],
   "source": [
    "tweet_dict['vestager'].keys()"
   ]
  },
  {
   "cell_type": "code",
   "execution_count": null,
   "metadata": {},
   "outputs": [],
   "source": []
  },
  {
   "cell_type": "markdown",
   "metadata": {},
   "source": [
    "# Download it for all persons:"
   ]
  },
  {
   "cell_type": "code",
   "execution_count": 9,
   "metadata": {},
   "outputs": [],
   "source": [
    "tweet_dict={\"Dummy\":{}}"
   ]
  },
  {
   "cell_type": "code",
   "execution_count": 10,
   "metadata": {},
   "outputs": [],
   "source": [
    "#This is now ALL persons (not only three)\n",
    "three_persons=list(data[\"Twittername\"])"
   ]
  },
  {
   "cell_type": "code",
   "execution_count": null,
   "metadata": {
    "scrolled": true
   },
   "outputs": [
    {
     "name": "stdout",
     "output_type": "stream",
     "text": [
      "Loading 1 / 651\n",
      "Loading 2 / 651\n",
      "Loading 3 / 651\n",
      "Loading 4 / 651\n",
      "Loading 5 / 651\n",
      "Loading 6 / 651\n",
      "Loading 7 / 651\n",
      "Loading 8 / 651\n",
      "Loading 9 / 651\n",
      "Loading 10 / 651\n",
      "Loading 11 / 651\n",
      "Loading 12 / 651\n",
      "Loading 13 / 651\n",
      "Loading 14 / 651\n",
      "Loading 15 / 651\n",
      "Loading 16 / 651\n",
      "Loading 17 / 651\n",
      "Loading 18 / 651\n",
      "Loading 19 / 651\n",
      "Loading 20 / 651\n",
      "Loading 21 / 651\n",
      "Loading 22 / 651\n",
      "Loading 23 / 651\n",
      "Loading 24 / 651\n",
      "Error at aahlers\n",
      "Loading 25 / 651\n",
      "Loading 26 / 651\n",
      "Loading 27 / 651\n",
      "Error at karmel80\n",
      "Loading 28 / 651\n",
      "Loading 29 / 651\n",
      "Loading 30 / 651\n",
      "Loading 31 / 651\n",
      "Loading 32 / 651\n",
      "Loading 33 / 651\n",
      "Loading 34 / 651\n",
      "Loading 35 / 651\n",
      "Loading 36 / 651\n",
      "Loading 37 / 651\n",
      "Loading 38 / 651\n",
      "Loading 39 / 651\n",
      "Loading 40 / 651\n",
      "Loading 41 / 651\n",
      "Loading 42 / 651\n"
     ]
    }
   ],
   "source": [
    "n_count=0\n",
    "n_total=len(three_persons)\n",
    "for p in three_persons:   \n",
    "    n_count=n_count+1\n",
    "    \n",
    "\n",
    "\n",
    "    # The Twitter user who we want to get tweets from\n",
    "    name = p\n",
    "    print(\"Loading {} / {}\".format(n_count,n_total))\n",
    "    # Number of tweets to pull\n",
    "    tweetCount = 200\n",
    "\n",
    "    try:\n",
    "        # Calling the user_timeline function with our parameters\n",
    "        tweets = api.user_timeline(id=name, count=tweetCount,tweet_mode='extended')\n",
    "\n",
    "\n",
    "\n",
    "\n",
    "        ##Updating dict\n",
    "        tweet_dict.update({name:{}})\n",
    "\n",
    "\n",
    "        ###############========== FINDING TWEETS FOR PERSON=============#####\n",
    "\n",
    "        for i,tweet in enumerate(tweets):\n",
    "            # printing the text stored inside the tweet object\n",
    "\n",
    "            opslag=tweet.full_text\n",
    "\n",
    "            if i==0:\n",
    "                tweet_dict[name]=[opslag]\n",
    "\n",
    "            else:\n",
    "                tweet_dict[name].append(opslag)\n",
    "\n",
    "\n",
    "\n",
    "\n",
    "    except:\n",
    "        print(\"Error at {}\".format(name))\n",
    "\n",
    "        \n",
    "        "
   ]
  },
  {
   "cell_type": "code",
   "execution_count": 37,
   "metadata": {},
   "outputs": [
    {
     "data": {
      "text/plain": [
       "200"
      ]
     },
     "execution_count": 37,
     "metadata": {},
     "output_type": "execute_result"
    }
   ],
   "source": [
    "len(tweet_dict['vestager'])"
   ]
  },
  {
   "cell_type": "code",
   "execution_count": 11,
   "metadata": {},
   "outputs": [],
   "source": [
    "del tweet_dict[\"Dummy\"]"
   ]
  },
  {
   "cell_type": "markdown",
   "metadata": {},
   "source": [
    "See the persons:"
   ]
  },
  {
   "cell_type": "code",
   "execution_count": 41,
   "metadata": {},
   "outputs": [
    {
     "data": {
      "text/plain": [
       "dict_keys(['vestager', 'larsloekke', 'oestergaard', 'PSkipperEL', 'IdaAuken', 'Kristian_Jensen', 'uffeelbaek', 'SorenPape', 'PiaOlsen', 'Heunicke', 'sofiecn', 'regeringDK', 'Statsmin', 'brianholm1962', 'ammitzbollbille', 'DanJoergensen', 'JakobEllemann', 'DanishMFA', 'mattiastesfaye', 'EllenTraneNorby', 'RosenkrantzT', 'MrMesserschmidt', 'FrankJensenKBH', 'aahlers', 'sophieloehde', 'martinlidegaard', 'karmel80', 'zeniastampe', 'Astridkrag', 'BennyEngelbrech', 'PHummelgaard', 'RasmusJarlov', 'JanEJoergensen', 'StemLAURITZEN', 'MogensJensenS', 'metteabildgaard', 'mfMorten', 'PerClausen3', 'Kristianthdahl', 'RasmusPrehn', '_MaiMercado', 'jacobmark_sf', 'Jesper_Pet', 'nvillumsen', 'Trinebramsen', 'skaarup_df', 'MargreteAuken', 'MetteGjerskov', 'AlexVanopslagh', 'rohde_jens', 'LotteRod', 'mortenhelveg', 'UFM_MIN', 'espersendf', 'PernilleVermund', 'olebirkolesen', 'Pia_Kjaersgaard', 'RosaLundEl', 'LisbethBNielsen', 'rasmusnordqvist', 'JeppeKofod', 'SophieHAndersen', 'AneHalsboe', 'SchaldemoseMEP', 'Loekkegaard_MEP', 'Finansmin', 'engelschmidt', 'simonkollerup', 'KHegaard', 'khoenge', 'Jens_Joel', 'Erhvervs_min', 'Ulla_Tornaes', 'Torstenschack', 'rasmushorn', 'michaelaastrup', 'DKsundhed', 'KofodPeter', 'naserkhaderdk', 'MFVMin', 'Blixt22', 'larsclilleholt', 'troelslundp', 'NWammen', 'SociologenHD', 'a_steenberg', 'nikogrunfeld', 'LeaWermelin', 'KaareDybvad', 'stinuslindgreen', 'benediktekiaer', 'JBundsgaard', 'kaaretraberg', 'EllemannKaren', 'lauralindahl', 'mariannejelved', 'EPiDanmark', 'Kulturmin', 'BHaarder', 'Forsvarsmin', 'KlimaMin', 'madsfuglede', 'rasmushelveg', 'Joymogensen', 'SamiraNawa', 'UVM_dk', 'MarieKrarup', 'HansAndersenV', 'Kira_MPH', 'JaneHeitmann', 'LoneLoklindt', 'CKrzyrosiak', 'villysoevndal', 'fatmaoektem', 'jacobjensenMF', 'TorstenGejl', 'MortenDahlin', 'Mich_Ziegler', 'WeissPernille', 'Kristensenberth', 'signe_munk', 'stephanie_lose', 'Carl__Valentin', 'KirstenNormann', 'TrineTorp', 'EvaKjerHansen', 'MF_K_Lorentzen', 'CamillaSchwalbe', 'JeppeBruus', 'ThDanielsen', 'kplorentzen', 'LouiseElholm', 'flydtkjaer', 'brittbager', 'SikandaSIDDIQUE', 'ChristianJuhl2', 'SandKjaer', 'skmdk', 'MaiVilladsen', 'AnniMatthiesen', 'ThiesenMette', 'Cspr_Hedegaard', 'EvaFlyvholm', 'RuneLundEL', 'AdsbolAdsbl', 'krarup_lars', 'RohlChristopher', 'TRM_dk', 'JohnDyrbyPaulse', 'Hans_Kr_Skibby', 'RabjergMadsen', 'JuulMona', 'LineaLidell', 'RStoklund', 'SisseMarieWe', 'JakobSoelvhoej', 'SoerenGade', 'LahnLeif', 'NielsFuglsang', 'VictoriaRV', 'JaBjerregaard', 'thomasmedom', 'rubenkidde', 'SrenSndergaard3', 'TommyPetersenDK', 'MortenMarinus', 'amgeisler', 'JulieSkovsby', 'MarianneVind', 'Danielpanduro', 'GunvorWibroe', 'jesper_bedreby', 'MarleneHARPSOEE', 'danielnyboe', 'karinFbach', 'mette_annelie', 'CamFabricius', 'KatrineRobsoe', 'ninnahedeager', 'LiseBech', 'nikolajbogh', 'steen2620', 'anneehrenreich', 'Socialindenrigs', 'FlemmingMM', 'larsgaardhoj', 'annette_lind', 'MiaNyegaard', 'BjBrandenborg', 'SerdalBenli', 'ThomasGyldal', 'pederhvelplund', 'LBMathiesen', 'Paulin_Anne', 'UlrikKohl', 'WestermannPeter', 'lytken', 'mariestaerke', 'JerkelK', 'mayorkolding', 'lars_aslan', 'MVindfeldt', 'CarolineStage', 'wgrosboell', 'HeinoKnudsen', 'AstridCaroee', 'AndersKuhnau', 'FrkCallesen', 'Susanne_Zimmer_', 'KastrupLarsen', 'rikkelau', 'JThulesen', 'Ammitzboell_K', 'clausjorgensen', 'AnneValentina', 'HavOrla', 'UAstman', 'rugholm', 'Jonasbjorn', 'ErlingBonnesen', 'OIMdk', 'PeterJuelJensen', 'marie_bjerre', 'BirgitteBergman', 'Nickerup', 'martinldamm', 'RavnTroels', 'TorbenHansenRds', 'Sten_Knuth', 'Eilersen_DF', 'AsgerChristens2', 'AndersKronborg', 'AnjaCJensen', 'HoghSorensen', 'KathrineOlldag', 'VillumC', 'dfmehd_mette', 'AajaCL', 'FranciskaRosenk', 'SonjaMJensen', 'bonygaardlarsen', 'steenHiversen', 'BSimsekV', 'mariagudme', 'jacobklaerke', 'CharlotteCre', 'emilblucher', 'sfBalder', 'peter_seier', 'polesenpolesen', 'Tonni_SF', 'PernilleBeckman', 'AJohanssonC', 'PerLarsenC', 'jakobgorm', 'LilleholtC', 'AstridAller', 'BirgitsHansen', 'ChristofferMels', 'Scheelsbeck', 'NPBogballe', 'FannyBroholm', 'DanielPrehn1', 'susanneursula', 'HanneRoed', 'AllanAhmadDK', 'LasseFJaalborg', 'MarcPerera', 'Halime9Oguz', 'Ls_Hansen', 'KirstenRask', 'jensmandrup', 'Fpless', 'FlemmingDL', 'orlaosterby', 'HaChrSchmidt', 'camillalouped', 'L_Lauritsen', 'HenrikHvidesten', 'NielsBjerrum', 'steenwrist', 'LeneHorsboel', 'CarlAndersenLA', 'bankHeidi', 'CharlotteLundDi', 'MarleneAmbo', 'MogensGade', 'JonathanNielsen', 'Jakob_Lose', 'Guldfeldt', 'Jesperfr', 'LoneYalcinkaya', 'mortenjung', 'BrianDybro', 'LeonSebbelin', 'sineheltberg', 'KarolineVind', 'marvesterager', 'MalteLarsen', 'MereteDuePaarup', 'jesperkiel', 'MariaSloth', 'NielsFlemming01', 'LassePNO', 'SeidenfadenSof', 'CKissmeyer', 'FogedRasmus', 'Knorgaardenn', 'AndreasBoesen', 'O76kocak', 'RoedAnnette', 'annika_smith', 'kimvalentinDK', 'KasperFuhr', 'donatzky', 'nielshorup', 'andersbroholm', 'RuneHojer', 'AnneStergaa', 'RoseSHansen', 'Bjarne_Laustsen', 'KurtDamsted', 'JBroedsgaard', 'TimVermund', 'roadhigh', 'AdelborgHelle', 'JeppeTrolle', 'Helle_Bonnesen', 'StemChristian', 'steenhasselriis', 'qasamnahmad', 'FasaelRehman', 'RasmusNorupC', 'KleinschmidtDK', 'Klausmygind', 'heidiwangdk', 'BroensChristian', 'ThomasKrarup', 'john_Engelhardt', 'ClausHouden', 'elisabeth_ildal', 'GertBjerregaard', 'torbenlollike', 'KisserFLehnert', 'MarkGrossmannV', 'PeterSHorsens', 'htgentofte', 'janjohansen16', 'hovelund', 'FruToxic', 'MogensVad', 'sor1steenupdate', 'klausmarkussen', 'SteenBAndersen', 'JulieG0ttschalk', 'karinaehl', 'Timo67', 'BodilKornbek', 'SorenRasmussenO', 'poulvjensen', 'SusanKjeldgaar', 'jeppelindberg', 'AngoWinther', 'JiJens', 'kasandrabehrndt', 'micskro', 'OehlenschlagerM', 'holst_karin', 'DalChristine', 'MartinNbech', 'LauraRosenvinge', 'TorbenElsig', 'PerZeidler', 'Mettengelbrecht', 'HansJHans', 'Winnerskjold', 'hjaltedaniel', 'JanRavnC', 'trinmads', 'stemstrange', 'TrineGraese', 'MadsAndersenC', 'sorijak', 'SSkaale', 'DennisSchmock', 'MariaBaagoeBove', 'FeilbergLouise', 'RikkeMortensen4', 'Flipitorflop', 'bitschbierbaum', 'Mette_Linnet', 'bo_vesth', 'mikidamlarsen', 'StemClausson', 'mads_duedahl', 'HjortStorm', 'DanielBorup', 'GithaNelander', 'tand22927504', 'LarssonTanja', 'brinkjammerbugt', 'hillers_s', 'OleVive', 'olebondo', 'BodilSoe', 'janwammen', 'lineervolder', 'TinaFrench71', 'BennyDall', 'ClausKjeldsen', 'M_BLIS', 'MajaTorpAalborg', 'OvergaardTorben', 'vindum', 'KasGly', 'Mikaelsmed', 'KrogMaja', '8464tage', 's_kusk', 'Gittesimoni', 'HarderOlesen', 'CjOmann', 'HenrikMoeller2', 'Oesterby', 'SlotvedMorten', 'GormGun', 'rasmusbrask', 'DianaMoseOlsen', 'DamborgIda', 'MarianneM_LA', 'Steffen_Moel', 'krdyhr', 'PeterMikkelsen4', 'RobertGlostrup', 'soerenschow', 'MortenA41863685', 'HolmerHans', 'SonneKaaloe', 'AnnaMHC', 'FriisHauge', 'hoppesoe', 'TommyHummelmose', 'AnneEbensgaard', 'LoneHind', 'perleberger', 'otklar', 'KarenSandrini', 'SGHobro', 'TPalmskov', 'KirstinevanSabb', 'peterduetoft', 'EikBidstrup', 'DanArnloev', 'AzadRabih', 'MadsPanny', 'J_Rixen', 'ArneLaegaard', 'KarstenUno', 'SRaunkjr', 'Enthybo', 'mortensiig', 'KirstenDvantier', 'OleRevsgaard', 'UDieterich', 'LarsMog', 'SkjerningDan', 'JGaarde', 'Knuden1969', 'orn48245399', 'PederUdengaard', 'NilsBorring', 'Jobr0390', 'UlrichFredberg', 'ptoerving', 'Vse11Vse', 'MathiasDFN', 'ClausBakke', 'HolgerSchouA', 'sorenwindell', 'MortenSkovlund', 'PerBoedker', 'CroedS_EL', 'FejoeMichele', 'aki_hdam', 'kbmusik88', 'NicolajBang', 'anetmort', 'Wollese', 'LeneKrabbeDahl', 'ErikSwiatek', 'BeithMai', 'lismancini', 'eva_mejnertz', 'GydaHeding', 'ErichsenFer', 'hav_t', 'SonderupIben', 'DrueCharlotte', 'CarstenKristen1', 'BorgmesterIb', 'LiselotteLyngeJ', 'JmMeilvang', 'IngemannDj', 'RandiMondorf', 'Eeahaldan', 'AlkeilAndreas', 'else_kayser', 'L_Linnemann', 'TuranKandemirDK', 'OleVind', 'lenekjelgaard', 'claushojrup', 'BlochMira', 'MailThies', 'MetteVALG', 'perbisgaard', 'Steffenhalsnaes', 'mariannefrede20', 'AnnyWinther', 'AndersBuhl', 'CgaChristel', 'henningravn', 'AnjaDaugaard', 'ErikNie68413878', 'PalleLykkeRavn', 'OxfeldtDina', 'malenebusks', 'UweJessen', 'SimonOgPolitik', 'sarah_noerris', 'AnnekAnnemarie', 'AnnieHagel', 'eskampwitek', 'PGraversgaard', 'MlCharlotte', 'AnneMllerRonex', 'laugelarsenS', 'aasekubelhoeeg', 'HansSkou', 'LundvaldSusanne', 'JtoOlsen', 'ErikNrreby', 'hasanbegovic_6', 'aabcollege', 'Roerbak', 'JanHendeliowitz', 'BuchhaveHenrik', 'ErhlErik', 'FlemmingVenstre', 'Tobiasboegeskov', 'pernillehoxbro', 'SusDyreborg', 'PoufrP', 'bente_gertz', 'helle_sjelle', 'ErikRGregersen', 'arlaugesen', 'BrankFlemming', 'Gorm_Lundshoej', 'karenlagoni', 'mariabrumvig', 'BrunoJerup', 'sja46297093', 'randlov62', 'Lindaf_dk', 'clausleick', 'SorenElbaek', 'MogensNorg', 'PskPer', 'OlesenAnna', 'PetterAstrup', 'KimDrejer', 'hagel6', 'shl1030', 'JakobVille', 'MariaTemponeras', 'susanne34684926', 'l_langballe', 'NikoNorup', 'mschepelern', 'AnjaLund2', 'SanneSkougaard', 'evan_lynnerup', 'LeneMilner', 'FondenSAA', 'TagePetersen', 'AlstedOle', 'mette_bjerre1', 'NiniOken', 'SimickMorten', 'svendsen_poul', 'medzait1', 'Niels_Horup', 'UllaGC', 'PoulErikJensenA', 'FrandsFischer', 'TageLeegaard', 'VickyLorenzen', 'hedlund_susan', 'PederHummelmose', 'MustaphaElAhmad', 'ArneBoelt', 'DorteWest', 'Finnsanderjense', 'mogens_nyholm', 'FogdeKarsten', 'hamlaouibahloul', 'QuistAhlquist', 'DortheHecht', 'henrik_vall', 'KimHesel', 'Frejasodergran', 'connyJensen3', 'BirtheHarritz', 'TrineFrengler', 'mharboll', 'Reinhardt09', 'mwp14', 'henningnyhuus', 'TherkildsenP', 'KasperEjlertsen', 'jetramskov', 'AnneHeeager', 'skawbojensen', 'HerskovJan', 'liv_gro', 'anderskorsbaek', 'soerep', 'Leif_Olsen', 'EllenPetersen18', 'PedersenFelex', 'PalmJohansen', 'ChristinaKjrsg2', 'LykkeMolle', 'vibeke_gamst', 'piamoldt', 'larsfolm', 'schlootie'])"
      ]
     },
     "execution_count": 41,
     "metadata": {},
     "output_type": "execute_result"
    }
   ],
   "source": [
    "tweet_dict.keys()"
   ]
  },
  {
   "cell_type": "code",
   "execution_count": 12,
   "metadata": {},
   "outputs": [],
   "source": [
    "#with open('tweet_dict_all_v2.data', 'wb') as filehandle:\n",
    "    # store the data as binary data stream\n",
    " #   pickle.dump(tweet_dict, filehandle)"
   ]
  },
  {
   "cell_type": "code",
   "execution_count": null,
   "metadata": {},
   "outputs": [],
   "source": []
  },
  {
   "cell_type": "code",
   "execution_count": null,
   "metadata": {},
   "outputs": [],
   "source": []
  },
  {
   "cell_type": "code",
   "execution_count": null,
   "metadata": {},
   "outputs": [],
   "source": []
  },
  {
   "cell_type": "code",
   "execution_count": null,
   "metadata": {},
   "outputs": [],
   "source": []
  },
  {
   "cell_type": "code",
   "execution_count": null,
   "metadata": {},
   "outputs": [],
   "source": []
  },
  {
   "cell_type": "code",
   "execution_count": 12,
   "metadata": {},
   "outputs": [
    {
     "name": "stdout",
     "output_type": "stream",
     "text": [
      "Loading 1 / 651\n",
      "Loading 2 / 651\n",
      "Loading 3 / 651\n",
      "Loading 4 / 651\n",
      "Loading 5 / 651\n",
      "Loading 6 / 651\n",
      "Loading 7 / 651\n",
      "Loading 8 / 651\n",
      "Loading 9 / 651\n",
      "Loading 10 / 651\n",
      "Loading 11 / 651\n",
      "Loading 12 / 651\n",
      "Loading 13 / 651\n",
      "Loading 14 / 651\n",
      "Loading 15 / 651\n",
      "Loading 16 / 651\n",
      "Loading 17 / 651\n",
      "Loading 18 / 651\n",
      "Loading 19 / 651\n",
      "Loading 20 / 651\n",
      "Loading 21 / 651\n",
      "Loading 22 / 651\n",
      "Loading 23 / 651\n",
      "Loading 24 / 651\n",
      "Loading 25 / 651\n",
      "Loading 26 / 651\n",
      "Loading 27 / 651\n",
      "Loading 28 / 651\n",
      "Loading 29 / 651\n",
      "Loading 30 / 651\n",
      "Loading 31 / 651\n",
      "Loading 32 / 651\n",
      "Loading 33 / 651\n",
      "Loading 34 / 651\n",
      "Loading 35 / 651\n",
      "Loading 36 / 651\n",
      "Loading 37 / 651\n",
      "Loading 38 / 651\n",
      "Loading 39 / 651\n",
      "Loading 40 / 651\n",
      "Loading 41 / 651\n",
      "Loading 42 / 651\n",
      "Loading 43 / 651\n",
      "Loading 44 / 651\n",
      "Loading 45 / 651\n",
      "Loading 46 / 651\n",
      "Loading 47 / 651\n",
      "Loading 48 / 651\n",
      "Loading 49 / 651\n",
      "Loading 50 / 651\n",
      "Loading 51 / 651\n",
      "Loading 52 / 651\n",
      "Loading 53 / 651\n",
      "Loading 54 / 651\n",
      "Loading 55 / 651\n",
      "Loading 56 / 651\n",
      "Loading 57 / 651\n",
      "Loading 58 / 651\n",
      "Loading 59 / 651\n",
      "Loading 60 / 651\n",
      "Loading 61 / 651\n",
      "Loading 62 / 651\n",
      "Loading 63 / 651\n",
      "Loading 64 / 651\n",
      "Loading 65 / 651\n",
      "Loading 66 / 651\n",
      "Loading 67 / 651\n",
      "Loading 68 / 651\n",
      "Loading 69 / 651\n",
      "Loading 70 / 651\n",
      "Loading 71 / 651\n",
      "Loading 72 / 651\n",
      "Loading 73 / 651\n",
      "Loading 74 / 651\n",
      "Loading 75 / 651\n",
      "Loading 76 / 651\n",
      "Loading 77 / 651\n",
      "Loading 78 / 651\n",
      "Loading 79 / 651\n",
      "Loading 80 / 651\n",
      "Loading 81 / 651\n",
      "fejl ved MFVMin\n",
      "Loading 82 / 651\n",
      "Loading 83 / 651\n",
      "Loading 84 / 651\n",
      "Loading 85 / 651\n",
      "Loading 86 / 651\n",
      "Loading 87 / 651\n",
      "Loading 88 / 651\n",
      "Loading 89 / 651\n",
      "Loading 90 / 651\n",
      "Loading 91 / 651\n",
      "Loading 92 / 651\n",
      "Loading 93 / 651\n",
      "Loading 94 / 651\n",
      "Loading 95 / 651\n",
      "Loading 96 / 651\n",
      "Loading 97 / 651\n",
      "Loading 98 / 651\n",
      "Loading 99 / 651\n",
      "Loading 100 / 651\n",
      "Loading 101 / 651\n",
      "Loading 102 / 651\n",
      "Loading 103 / 651\n",
      "Loading 104 / 651\n",
      "Loading 105 / 651\n",
      "Loading 106 / 651\n",
      "Loading 107 / 651\n",
      "Loading 108 / 651\n",
      "Loading 109 / 651\n",
      "Loading 110 / 651\n",
      "Loading 111 / 651\n",
      "Loading 112 / 651\n",
      "Loading 113 / 651\n",
      "Loading 114 / 651\n",
      "Loading 115 / 651\n",
      "Loading 116 / 651\n",
      "Loading 117 / 651\n",
      "Loading 118 / 651\n",
      "Loading 119 / 651\n",
      "Loading 120 / 651\n",
      "Loading 121 / 651\n",
      "Loading 122 / 651\n",
      "Loading 123 / 651\n",
      "Loading 124 / 651\n",
      "Loading 125 / 651\n",
      "Loading 126 / 651\n",
      "Loading 127 / 651\n",
      "Loading 128 / 651\n",
      "Loading 129 / 651\n",
      "Loading 130 / 651\n",
      "Loading 131 / 651\n",
      "Loading 132 / 651\n",
      "Loading 133 / 651\n",
      "Loading 134 / 651\n",
      "fejl ved Simonpihl\n",
      "Loading 135 / 651\n",
      "Loading 136 / 651\n",
      "Loading 137 / 651\n",
      "Loading 138 / 651\n",
      "Loading 139 / 651\n",
      "Loading 140 / 651\n",
      "Loading 141 / 651\n",
      "Loading 142 / 651\n",
      "Loading 143 / 651\n",
      "Loading 144 / 651\n",
      "Loading 145 / 651\n",
      "Loading 146 / 651\n",
      "Loading 147 / 651\n",
      "Loading 148 / 651\n",
      "Loading 149 / 651\n",
      "Loading 150 / 651\n",
      "Loading 151 / 651\n",
      "Loading 152 / 651\n",
      "Loading 153 / 651\n",
      "Loading 154 / 651\n",
      "Loading 155 / 651\n",
      "Loading 156 / 651\n",
      "Loading 157 / 651\n",
      "Loading 158 / 651\n",
      "Loading 159 / 651\n",
      "Loading 160 / 651\n",
      "Loading 161 / 651\n",
      "Loading 162 / 651\n",
      "Loading 163 / 651\n",
      "Loading 164 / 651\n",
      "Loading 165 / 651\n",
      "Loading 166 / 651\n",
      "Loading 167 / 651\n",
      "Loading 168 / 651\n",
      "Loading 169 / 651\n",
      "Loading 170 / 651\n",
      "Loading 171 / 651\n",
      "Loading 172 / 651\n",
      "Loading 173 / 651\n",
      "Loading 174 / 651\n",
      "Loading 175 / 651\n",
      "Loading 176 / 651\n",
      "Loading 177 / 651\n",
      "Loading 178 / 651\n",
      "Loading 179 / 651\n",
      "Loading 180 / 651\n",
      "Loading 181 / 651\n",
      "Loading 182 / 651\n",
      "Loading 183 / 651\n",
      "Loading 184 / 651\n",
      "Loading 185 / 651\n",
      "Loading 186 / 651\n",
      "Loading 187 / 651\n",
      "Loading 188 / 651\n",
      "Loading 189 / 651\n",
      "Loading 190 / 651\n",
      "Loading 191 / 651\n",
      "Loading 192 / 651\n",
      "Loading 193 / 651\n",
      "Loading 194 / 651\n",
      "Loading 195 / 651\n",
      "Loading 196 / 651\n",
      "Loading 197 / 651\n",
      "Loading 198 / 651\n",
      "Loading 199 / 651\n",
      "Loading 200 / 651\n",
      "Loading 201 / 651\n",
      "Loading 202 / 651\n",
      "Loading 203 / 651\n",
      "Loading 204 / 651\n",
      "Loading 205 / 651\n",
      "Loading 206 / 651\n",
      "Loading 207 / 651\n",
      "Loading 208 / 651\n",
      "Loading 209 / 651\n",
      "Loading 210 / 651\n",
      "Loading 211 / 651\n",
      "Loading 212 / 651\n",
      "Loading 213 / 651\n",
      "Loading 214 / 651\n",
      "Loading 215 / 651\n",
      "Loading 216 / 651\n",
      "Loading 217 / 651\n",
      "Loading 218 / 651\n",
      "Loading 219 / 651\n",
      "fejl ved BendixenPebe\n",
      "Loading 220 / 651\n",
      "Loading 221 / 651\n",
      "Loading 222 / 651\n",
      "Loading 223 / 651\n",
      "Loading 224 / 651\n",
      "Loading 225 / 651\n",
      "Loading 226 / 651\n",
      "Loading 227 / 651\n",
      "Loading 228 / 651\n",
      "Loading 229 / 651\n",
      "Loading 230 / 651\n",
      "Loading 231 / 651\n",
      "Loading 232 / 651\n",
      "Loading 233 / 651\n",
      "Loading 234 / 651\n",
      "Loading 235 / 651\n",
      "Loading 236 / 651\n",
      "fejl ved AsgerChristens2\n",
      "Loading 237 / 651\n",
      "Loading 238 / 651\n",
      "Loading 239 / 651\n",
      "Loading 240 / 651\n",
      "Loading 241 / 651\n",
      "Loading 242 / 651\n",
      "Loading 243 / 651\n",
      "Loading 244 / 651\n",
      "Loading 245 / 651\n",
      "Loading 246 / 651\n",
      "Loading 247 / 651\n",
      "Loading 248 / 651\n",
      "Loading 249 / 651\n",
      "Loading 250 / 651\n",
      "Loading 251 / 651\n",
      "Loading 252 / 651\n",
      "Loading 253 / 651\n",
      "Loading 254 / 651\n",
      "Loading 255 / 651\n",
      "Loading 256 / 651\n",
      "Loading 257 / 651\n",
      "Loading 258 / 651\n",
      "Loading 259 / 651\n",
      "Loading 260 / 651\n",
      "Loading 261 / 651\n",
      "Loading 262 / 651\n",
      "Loading 263 / 651\n",
      "Loading 264 / 651\n",
      "Loading 265 / 651\n",
      "Loading 266 / 651\n",
      "Loading 267 / 651\n",
      "Loading 268 / 651\n",
      "Loading 269 / 651\n",
      "Loading 270 / 651\n",
      "Loading 271 / 651\n",
      "Loading 272 / 651\n",
      "Loading 273 / 651\n",
      "Loading 274 / 651\n",
      "Loading 275 / 651\n",
      "Loading 276 / 651\n",
      "Loading 277 / 651\n",
      "Loading 278 / 651\n",
      "Loading 279 / 651\n",
      "Loading 280 / 651\n",
      "Loading 281 / 651\n",
      "Loading 282 / 651\n",
      "Loading 283 / 651\n",
      "Loading 284 / 651\n",
      "fejl ved ToftJakobsen\n",
      "Loading 285 / 651\n",
      "Loading 286 / 651\n",
      "Loading 287 / 651\n",
      "Loading 288 / 651\n",
      "Loading 289 / 651\n",
      "Loading 290 / 651\n",
      "Loading 291 / 651\n",
      "Loading 292 / 651\n",
      "Loading 293 / 651\n",
      "Loading 294 / 651\n",
      "Loading 295 / 651\n",
      "Loading 296 / 651\n",
      "Loading 297 / 651\n",
      "Loading 298 / 651\n",
      "Loading 299 / 651\n",
      "Loading 300 / 651\n",
      "Loading 301 / 651\n",
      "Loading 302 / 651\n",
      "Loading 303 / 651\n",
      "fejl ved simonsjsimonsen\n",
      "Loading 304 / 651\n",
      "Loading 305 / 651\n",
      "Loading 306 / 651\n",
      "Loading 307 / 651\n",
      "Loading 308 / 651\n",
      "Loading 309 / 651\n",
      "Loading 310 / 651\n",
      "Loading 311 / 651\n",
      "Loading 312 / 651\n",
      "Loading 313 / 651\n",
      "Loading 314 / 651\n",
      "Loading 315 / 651\n",
      "Loading 316 / 651\n",
      "Loading 317 / 651\n",
      "Loading 318 / 651\n",
      "Loading 319 / 651\n",
      "Loading 320 / 651\n",
      "Loading 321 / 651\n",
      "Loading 322 / 651\n",
      "Loading 323 / 651\n",
      "Loading 324 / 651\n",
      "Loading 325 / 651\n",
      "fejl ved Latifa_Venstre\n",
      "Loading 326 / 651\n",
      "Loading 327 / 651\n",
      "Loading 328 / 651\n",
      "Loading 329 / 651\n",
      "Loading 330 / 651\n",
      "Loading 331 / 651\n",
      "Loading 332 / 651\n",
      "fejl ved GlenMadsen\n",
      "Loading 333 / 651\n",
      "Loading 334 / 651\n",
      "Loading 335 / 651\n",
      "Loading 336 / 651\n",
      "Loading 337 / 651\n",
      "Loading 338 / 651\n",
      "Loading 339 / 651\n",
      "Loading 340 / 651\n",
      "Loading 341 / 651\n",
      "Loading 342 / 651\n",
      "Loading 343 / 651\n",
      "Loading 344 / 651\n",
      "Loading 345 / 651\n",
      "Loading 346 / 651\n",
      "Loading 347 / 651\n",
      "Loading 348 / 651\n",
      "Loading 349 / 651\n",
      "Loading 350 / 651\n",
      "Loading 351 / 651\n",
      "Loading 352 / 651\n",
      "Loading 353 / 651\n",
      "Loading 354 / 651\n",
      "Loading 355 / 651\n",
      "Loading 356 / 651\n",
      "Loading 357 / 651\n",
      "Loading 358 / 651\n",
      "Loading 359 / 651\n",
      "Loading 360 / 651\n",
      "Loading 361 / 651\n",
      "Loading 362 / 651\n",
      "Loading 363 / 651\n",
      "Loading 364 / 651\n",
      "Loading 365 / 651\n",
      "Loading 366 / 651\n",
      "Loading 367 / 651\n",
      "Loading 368 / 651\n",
      "Loading 369 / 651\n",
      "Loading 370 / 651\n",
      "Loading 371 / 651\n",
      "Loading 372 / 651\n",
      "Loading 373 / 651\n",
      "Loading 374 / 651\n",
      "Loading 375 / 651\n",
      "Loading 376 / 651\n",
      "Loading 377 / 651\n",
      "Loading 378 / 651\n",
      "Loading 379 / 651\n",
      "Loading 380 / 651\n",
      "Loading 381 / 651\n",
      "Loading 382 / 651\n",
      "Loading 383 / 651\n",
      "Loading 384 / 651\n",
      "Loading 385 / 651\n",
      "Loading 386 / 651\n",
      "Loading 387 / 651\n",
      "Loading 388 / 651\n",
      "Loading 389 / 651\n",
      "Loading 390 / 651\n",
      "Loading 391 / 651\n",
      "Loading 392 / 651\n",
      "Loading 393 / 651\n",
      "Loading 394 / 651\n",
      "Loading 395 / 651\n",
      "Loading 396 / 651\n",
      "Loading 397 / 651\n",
      "Loading 398 / 651\n",
      "Loading 399 / 651\n",
      "Loading 400 / 651\n",
      "Loading 401 / 651\n",
      "Loading 402 / 651\n",
      "Loading 403 / 651\n",
      "Loading 404 / 651\n",
      "Loading 405 / 651\n",
      "Loading 406 / 651\n",
      "Loading 407 / 651\n",
      "Loading 408 / 651\n",
      "Loading 409 / 651\n",
      "Loading 410 / 651\n",
      "Loading 411 / 651\n",
      "Loading 412 / 651\n",
      "Loading 413 / 651\n",
      "Loading 414 / 651\n",
      "Loading 415 / 651\n",
      "Loading 416 / 651\n",
      "Loading 417 / 651\n",
      "Loading 418 / 651\n",
      "Loading 419 / 651\n",
      "Loading 420 / 651\n",
      "Loading 421 / 651\n",
      "Loading 422 / 651\n",
      "Loading 423 / 651\n",
      "Loading 424 / 651\n",
      "Loading 425 / 651\n",
      "Loading 426 / 651\n",
      "Loading 427 / 651\n",
      "Loading 428 / 651\n",
      "Loading 429 / 651\n",
      "Loading 430 / 651\n",
      "Loading 431 / 651\n",
      "Loading 432 / 651\n",
      "Loading 433 / 651\n",
      "Loading 434 / 651\n",
      "Loading 435 / 651\n",
      "Loading 436 / 651\n",
      "Loading 437 / 651\n",
      "Loading 438 / 651\n",
      "Loading 439 / 651\n",
      "Loading 440 / 651\n",
      "Loading 441 / 651\n",
      "Loading 442 / 651\n",
      "Loading 443 / 651\n",
      "Loading 444 / 651\n",
      "Loading 445 / 651\n",
      "Loading 446 / 651\n",
      "Loading 447 / 651\n",
      "Loading 448 / 651\n",
      "Loading 449 / 651\n",
      "Loading 450 / 651\n",
      "Loading 451 / 651\n",
      "Loading 452 / 651\n"
     ]
    },
    {
     "name": "stdout",
     "output_type": "stream",
     "text": [
      "Loading 453 / 651\n",
      "Loading 454 / 651\n",
      "Loading 455 / 651\n",
      "Loading 456 / 651\n",
      "Loading 457 / 651\n",
      "Loading 458 / 651\n",
      "Loading 459 / 651\n",
      "Loading 460 / 651\n",
      "Loading 461 / 651\n",
      "Loading 462 / 651\n",
      "Loading 463 / 651\n",
      "Loading 464 / 651\n",
      "Loading 465 / 651\n",
      "Loading 466 / 651\n",
      "Loading 467 / 651\n",
      "Loading 468 / 651\n",
      "Loading 469 / 651\n",
      "Loading 470 / 651\n",
      "fejl ved flemse68\n",
      "Loading 471 / 651\n",
      "Loading 472 / 651\n",
      "Loading 473 / 651\n",
      "Loading 474 / 651\n",
      "Loading 475 / 651\n",
      "Loading 476 / 651\n",
      "Loading 477 / 651\n",
      "Loading 478 / 651\n",
      "Loading 479 / 651\n",
      "Loading 480 / 651\n",
      "Loading 481 / 651\n",
      "Loading 482 / 651\n",
      "Loading 483 / 651\n",
      "Loading 484 / 651\n",
      "Loading 485 / 651\n",
      "Loading 486 / 651\n",
      "Loading 487 / 651\n",
      "Loading 488 / 651\n",
      "Loading 489 / 651\n",
      "Loading 490 / 651\n",
      "Loading 491 / 651\n",
      "Loading 492 / 651\n",
      "Loading 493 / 651\n",
      "Loading 494 / 651\n",
      "Loading 495 / 651\n",
      "Loading 496 / 651\n",
      "Loading 497 / 651\n",
      "Loading 498 / 651\n",
      "Loading 499 / 651\n",
      "Loading 500 / 651\n",
      "Loading 501 / 651\n",
      "Loading 502 / 651\n",
      "Loading 503 / 651\n",
      "Loading 504 / 651\n",
      "Loading 505 / 651\n",
      "Loading 506 / 651\n",
      "Loading 507 / 651\n",
      "Loading 508 / 651\n",
      "Loading 509 / 651\n",
      "Loading 510 / 651\n",
      "Loading 511 / 651\n",
      "Loading 512 / 651\n",
      "Loading 513 / 651\n",
      "Loading 514 / 651\n",
      "Loading 515 / 651\n",
      "Loading 516 / 651\n",
      "Loading 517 / 651\n",
      "Loading 518 / 651\n",
      "Loading 519 / 651\n",
      "Loading 520 / 651\n",
      "Loading 521 / 651\n",
      "Loading 522 / 651\n",
      "Loading 523 / 651\n",
      "Loading 524 / 651\n",
      "Loading 525 / 651\n",
      "Loading 526 / 651\n",
      "Loading 527 / 651\n",
      "Loading 528 / 651\n",
      "Loading 529 / 651\n",
      "Loading 530 / 651\n",
      "Loading 531 / 651\n",
      "Loading 532 / 651\n",
      "Loading 533 / 651\n",
      "Loading 534 / 651\n",
      "Loading 535 / 651\n",
      "Loading 536 / 651\n",
      "Loading 537 / 651\n",
      "Loading 538 / 651\n",
      "Loading 539 / 651\n",
      "Loading 540 / 651\n",
      "Loading 541 / 651\n",
      "Loading 542 / 651\n",
      "Loading 543 / 651\n",
      "Loading 544 / 651\n",
      "Loading 545 / 651\n",
      "Loading 546 / 651\n",
      "Loading 547 / 651\n",
      "Loading 548 / 651\n",
      "Loading 549 / 651\n",
      "Loading 550 / 651\n",
      "Loading 551 / 651\n",
      "Loading 552 / 651\n",
      "Loading 553 / 651\n",
      "Loading 554 / 651\n",
      "Loading 555 / 651\n",
      "Loading 556 / 651\n",
      "Loading 557 / 651\n",
      "Loading 558 / 651\n",
      "Loading 559 / 651\n",
      "Loading 560 / 651\n",
      "Loading 561 / 651\n",
      "Loading 562 / 651\n",
      "Loading 563 / 651\n",
      "Loading 564 / 651\n",
      "Loading 565 / 651\n",
      "Loading 566 / 651\n",
      "Loading 567 / 651\n",
      "Loading 568 / 651\n",
      "Loading 569 / 651\n",
      "Loading 570 / 651\n",
      "Loading 571 / 651\n",
      "Loading 572 / 651\n",
      "Loading 573 / 651\n",
      "Loading 574 / 651\n",
      "Loading 575 / 651\n",
      "Loading 576 / 651\n",
      "Loading 577 / 651\n",
      "Loading 578 / 651\n",
      "Loading 579 / 651\n",
      "Loading 580 / 651\n",
      "Loading 581 / 651\n",
      "Loading 582 / 651\n",
      "Loading 583 / 651\n",
      "Loading 584 / 651\n",
      "Loading 585 / 651\n",
      "Loading 586 / 651\n",
      "Loading 587 / 651\n",
      "Loading 588 / 651\n",
      "Loading 589 / 651\n",
      "Loading 590 / 651\n",
      "Loading 591 / 651\n",
      "Loading 592 / 651\n",
      "Loading 593 / 651\n",
      "Loading 594 / 651\n",
      "Loading 595 / 651\n",
      "Loading 596 / 651\n",
      "Loading 597 / 651\n",
      "Loading 598 / 651\n",
      "Loading 599 / 651\n",
      "Loading 600 / 651\n",
      "Loading 601 / 651\n",
      "Loading 602 / 651\n",
      "Loading 603 / 651\n",
      "Loading 604 / 651\n",
      "Loading 605 / 651\n",
      "Loading 606 / 651\n",
      "Loading 607 / 651\n",
      "Loading 608 / 651\n",
      "Loading 609 / 651\n",
      "Loading 610 / 651\n",
      "Loading 611 / 651\n",
      "Loading 612 / 651\n",
      "Loading 613 / 651\n",
      "Loading 614 / 651\n",
      "Loading 615 / 651\n",
      "Loading 616 / 651\n",
      "Loading 617 / 651\n",
      "Loading 618 / 651\n",
      "Loading 619 / 651\n",
      "Loading 620 / 651\n",
      "Loading 621 / 651\n",
      "Loading 622 / 651\n",
      "Loading 623 / 651\n",
      "Loading 624 / 651\n",
      "Loading 625 / 651\n",
      "Loading 626 / 651\n",
      "Loading 627 / 651\n",
      "Loading 628 / 651\n",
      "Loading 629 / 651\n",
      "Loading 630 / 651\n",
      "Loading 631 / 651\n",
      "fejl ved rn_lehmann\n",
      "Loading 632 / 651\n",
      "Loading 633 / 651\n",
      "Loading 634 / 651\n",
      "Loading 635 / 651\n",
      "Loading 636 / 651\n",
      "Loading 637 / 651\n",
      "Loading 638 / 651\n",
      "Loading 639 / 651\n",
      "Loading 640 / 651\n",
      "Loading 641 / 651\n",
      "Loading 642 / 651\n",
      "Loading 643 / 651\n",
      "Loading 644 / 651\n",
      "Loading 645 / 651\n",
      "Loading 646 / 651\n",
      "Loading 647 / 651\n",
      "Loading 648 / 651\n",
      "Loading 649 / 651\n",
      "Loading 650 / 651\n",
      "Loading 651 / 651\n"
     ]
    }
   ],
   "source": [
    "n_count=0\n",
    "n_total=len(three_persons)\n",
    "\n",
    "\n",
    "\n",
    "from datetime import datetime\n",
    "\n",
    "firsttime = '12/02/20 13:55:26'\n",
    "\n",
    "firsttime = datetime.strptime(firsttime, '%m/%d/%y %H:%M:%S')\n",
    "\n",
    "\n",
    "\n",
    "time_vec=[]\n",
    "\n",
    "\n",
    "for p in three_persons:   \n",
    "    n_count=n_count+1\n",
    "    \n",
    "\n",
    "\n",
    "    # The Twitter user who we want to get tweets from\n",
    "    name = p\n",
    "    print(\"Loading {} / {}\".format(n_count,n_total))\n",
    "    # Number of tweets to pull\n",
    "    tweetCount = 200\n",
    "\n",
    "    try:\n",
    "    \n",
    "        # Calling the user_timeline function with our parameters\n",
    "        tweets = api.user_timeline(id=name, count=tweetCount,tweet_mode='extended')\n",
    "\n",
    "\n",
    "\n",
    "\n",
    "        ###############========== FINDING TWEETS FOR PERSON=============#####\n",
    "\n",
    "        for i,tweet in enumerate(tweets):\n",
    "            \n",
    "            time_vec.append(tweet.created_at)\n",
    "\n",
    "\n",
    "\n",
    "            if (firsttime>tweet.created_at):\n",
    "                firsttime=tweet.created_at\n",
    "\n",
    "    except:\n",
    "        print(\"fejl ved {}\".format(p))\n",
    "\n",
    " \n",
    "\n",
    "        \n",
    "        "
   ]
  },
  {
   "cell_type": "code",
   "execution_count": 31,
   "metadata": {},
   "outputs": [
    {
     "name": "stdout",
     "output_type": "stream",
     "text": [
      "2009-04-17 17:51:13\n"
     ]
    }
   ],
   "source": [
    "print(firsttime)"
   ]
  },
  {
   "cell_type": "code",
   "execution_count": 14,
   "metadata": {},
   "outputs": [],
   "source": [
    "year_list=[n.year for n in time_vec]"
   ]
  },
  {
   "cell_type": "code",
   "execution_count": 65,
   "metadata": {},
   "outputs": [
    {
     "data": {
      "text/plain": [
       "2018.0"
      ]
     },
     "execution_count": 65,
     "metadata": {},
     "output_type": "execute_result"
    }
   ],
   "source": [
    "import numpy as np\n",
    "\n",
    "\n",
    "np.quantile(np.array(year_list),0.25)"
   ]
  },
  {
   "cell_type": "code",
   "execution_count": 75,
   "metadata": {},
   "outputs": [
    {
     "data": {
      "text/plain": [
       "71.50267136251468"
      ]
     },
     "execution_count": 75,
     "metadata": {},
     "output_type": "execute_result"
    }
   ],
   "source": [
    "df = pd.DataFrame(arr)\n",
    "\n",
    "from scipy import stats\n",
    "100-stats.percentileofscore(df,2018)"
   ]
  },
  {
   "cell_type": "code",
   "execution_count": 13,
   "metadata": {},
   "outputs": [],
   "source": [
    "#with open('time_vec.data', 'wb') as filehandle:\n",
    "    # store the data as binary data stream\n",
    " #   pickle.dump(time_vec, filehandle)"
   ]
  },
  {
   "cell_type": "code",
   "execution_count": 20,
   "metadata": {},
   "outputs": [
    {
     "data": {
      "text/plain": [
       "2009"
      ]
     },
     "execution_count": 20,
     "metadata": {},
     "output_type": "execute_result"
    }
   ],
   "source": [
    "min()"
   ]
  },
  {
   "cell_type": "code",
   "execution_count": 26,
   "metadata": {},
   "outputs": [
    {
     "data": {
      "text/plain": [
       "2020"
      ]
     },
     "execution_count": 26,
     "metadata": {},
     "output_type": "execute_result"
    }
   ],
   "source": [
    "year_list[year_list==2020]"
   ]
  },
  {
   "cell_type": "code",
   "execution_count": 27,
   "metadata": {},
   "outputs": [],
   "source": [
    "arr=np.array(year_list)"
   ]
  },
  {
   "cell_type": "code",
   "execution_count": 29,
   "metadata": {},
   "outputs": [
    {
     "data": {
      "text/plain": [
       "237"
      ]
     },
     "execution_count": 29,
     "metadata": {},
     "output_type": "execute_result"
    }
   ],
   "source": []
  },
  {
   "cell_type": "code",
   "execution_count": 50,
   "metadata": {},
   "outputs": [
    {
     "data": {
      "text/plain": [
       "0.1421332566664271"
      ]
     },
     "execution_count": 50,
     "metadata": {},
     "output_type": "execute_result"
    }
   ],
   "source": [
    "(len(arr[arr==2019])/len(arr))"
   ]
  },
  {
   "cell_type": "code",
   "execution_count": null,
   "metadata": {},
   "outputs": [],
   "source": []
  }
 ],
 "metadata": {
  "kernelspec": {
   "display_name": "Python 3",
   "language": "python",
   "name": "python3"
  },
  "language_info": {
   "codemirror_mode": {
    "name": "ipython",
    "version": 3
   },
   "file_extension": ".py",
   "mimetype": "text/x-python",
   "name": "python",
   "nbconvert_exporter": "python",
   "pygments_lexer": "ipython3",
   "version": "3.7.4"
  }
 },
 "nbformat": 4,
 "nbformat_minor": 2
}
